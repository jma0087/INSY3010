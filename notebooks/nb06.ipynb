{
 "cells": [
  {
   "cell_type": "markdown",
   "id": "0",
   "metadata": {
    "tags": [
     "remove-cell"
    ]
   },
   "source": [
    "# Welcome\n",
    "\n",
    "Portions of this notebook are taken from Chapter 5 of [Python for Everybody](https://py4e.com), by Charles R. Severance. I have adapted it for this class."
   ]
  },
  {
   "cell_type": "markdown",
   "id": "1",
   "metadata": {},
   "source": [
    "## Looping aka Repetition aka Iteration\n",
    "\n",
    "Computers are often used to automate repetitive tasks. Repeating identical or similar tasks without making errors is something that computers do well and people do poorly. Because iteration is so common, Python provides several language features to make it easier.\n",
    "\n",
    "### The `while` Statement\n",
    "\n",
    "One form of iteration in Python is the `while` statement. `while` is a compound statement, like `if`, with header and indented code block.\n",
    "Here is a simple program that counts down from five and then says “Blastoff!”."
   ]
  },
  {
   "cell_type": "code",
   "execution_count": null,
   "id": "2",
   "metadata": {},
   "outputs": [],
   "source": [
    "n = 5\n",
    "\n",
    "while n > 0:\n",
    "    print(n)\n",
    "    n = n - 1\n",
    "\n",
    "print('Blastoff!')"
   ]
  },
  {
   "cell_type": "markdown",
   "id": "3",
   "metadata": {},
   "source": [
    "You can almost read the `while` statement as if it were English. It means, “While n is greater than 0, display the value of n and then reduce the value of n by 1. When you get to 0, exit the while statement and display the word Blastoff!”\n",
    "\n",
    "More formally, here is the flow of execution for a while statement:\n",
    "\n",
    "- Evaluate the condition, yielding `True` or `False`.\n",
    "- If the condition is `False`, exit the `while` statement and continue execution at the next statement.\n",
    "- If the condition is `True`, execute the associated code block (aka body) and then go back to step 1.\n",
    "\n",
    "This type of flow is called a loop because the third step loops back around to the top. We call each time we execute the body of the loop an iteration. For the above loop, we would say, “It had five iterations”, which means that the body of the loop was executed five times.\n",
    "\n",
    "**The body of the loop should change the value of one or more variables so that eventually the condition becomes false and the loop terminates.** We call the variable that changes each time the loop executes and controls when the loop finishes the iteration variable. If there is no iteration variable, the loop will repeat forever, resulting in an infinite loop, which is almost always undesireable.\n"
   ]
  },
  {
   "attachments": {},
   "cell_type": "markdown",
   "id": "4",
   "metadata": {},
   "source": [
    "## Infinite Loops\n",
    "\n",
    "An endless source of amusement for programmers is the observation that the directions on shampoo, “Lather, rinse, repeat,” are an infinite loop because there is no iteration variable telling you how many times to execute the loop.\n",
    "\n",
    "In the case of the countdown program, we can prove that the loop terminates because we know that the value of `n` is finite, and we can see that the value of n gets smaller each time through the loop, so eventually we have to get to 0. Other times a loop is obviously infinite because it has no iteration variable at all.\n",
    "\n",
    "This loop is obviously an infinite loop because the logical expression on the while statement is simply the logical constant True:\n",
    "\n",
    "```python\n",
    "# you can't run this code - it's not in an executable code block\n",
    "n = 10\n",
    "\n",
    "while True:  # always true!\n",
    "    print(n, end=' ')\n",
    "    n = n - 1\n",
    "\n",
    "print('Done!')\n",
    "```"
   ]
  },
  {
   "cell_type": "markdown",
   "id": "5",
   "metadata": {},
   "source": [
    "If you make the mistake and run this code, you will learn quickly how to stop a runaway Python process on your system or find where the power-off button is on your computer. This program will run forever or until your battery runs out because the logical expression at the top of the loop is always true by virtue of the fact that the expression is the constant value `True`."
   ]
  },
  {
   "cell_type": "markdown",
   "id": "6",
   "metadata": {},
   "source": [
    "The method used to stop a runaway Python program like this will vary depending on how it is run:\n",
    "\n",
    "- In a Jupyter Notebook environment, click the stop button, the placement and look of which will vary depending on the flavor of notebook you are running.\n",
    "    - In Colab, it is located just to the left of the running code block. A circular animation plays around the button while the cell is running.\n",
    "    - In the traditional Jupyter Lab or Notebook environments, it is the square icon next to the *play* button.\n",
    "- When run in the terminal or from within a Python console, use `Control+C` (Windows / Linux) or `Command+C` (Mac). That's the control (aka CTRL) or command (aka CMD) key plus the letter `C` (not caps). It should stop the working command and return you to the command / console prompt.\n",
    "\n",
    "You may need to repeat the stop command multiple times. Once stopped, a Jupyter cell will display its run order number, while a terminal or console will return to the command prompt.\n",
    "\n",
    "For the reasons described above, `while` loops are deceptive. The `while <condition>` syntax is simple, but requires the programmer to correctly set the entry point and modify the condition it tests."
   ]
  },
  {
   "cell_type": "markdown",
   "id": "7",
   "metadata": {},
   "source": [
    "### Exercise\n",
    "\n",
    "The `print` statement in the loop above includes an argument that is new to us:\n",
    "\n",
    "```python\n",
    "print(n, end=' ')\n",
    "```\n",
    "\n",
    "What does it do? Run the code below, using the methods described above to stop it. Observe the output. What is different about this use of `print`?"
   ]
  },
  {
   "cell_type": "code",
   "execution_count": null,
   "id": "8",
   "metadata": {},
   "outputs": [],
   "source": [
    "# copy the code here to test it...\n"
   ]
  },
  {
   "cell_type": "markdown",
   "id": "9",
   "metadata": {},
   "source": [
    "## The `break` Statement\n",
    "\n",
    "Sometimes you don’t know it’s time to end a loop until you get half way through the body. In that case you can write an infinite loop on purpose and then use the `break` statement to jump out of the loop.\n",
    "\n",
    "We can use this pattern to build useful loops.\n",
    "For example, suppose you want to take input from the user until they type done. You could write:"
   ]
  },
  {
   "cell_type": "code",
   "execution_count": null,
   "id": "10",
   "metadata": {},
   "outputs": [],
   "source": [
    "while True:\n",
    "    line = input('> ')\n",
    "    if line == 'done':\n",
    "        break\n",
    "    print(line)\n",
    "\n",
    "print('Done!')"
   ]
  },
  {
   "cell_type": "markdown",
   "id": "11",
   "metadata": {},
   "source": [
    "The loop condition is `True`, which is always true, so the loop runs repeatedly until it hits the `break` statement.\n",
    "\n",
    "Each time through, it prompts the user with an angle bracket. If the user types `done`, the `break` statement exits the loop. Otherwise the program echoes whatever the user types and goes back to the top of the loop.\n",
    "\n",
    "This way of writing while loops is common because you can check the condition anywhere in the loop (not just at the top) and you can express the stop condition affirmatively (“stop when this happens”) rather than negatively (“keep going until that happens.”)."
   ]
  },
  {
   "cell_type": "markdown",
   "id": "12",
   "metadata": {},
   "source": [
    "### Exercise\n",
    "\n",
    "What happens if the user inputs \"Done\" or \"DONE\" or \"dOnE\" when using the code above? How could you change the code to make the `line == 'done'` comparison case-insensitive?"
   ]
  },
  {
   "cell_type": "code",
   "execution_count": null,
   "id": "13",
   "metadata": {},
   "outputs": [],
   "source": [
    "# copy the code above and make a one line change to achieve this...\n"
   ]
  },
  {
   "cell_type": "markdown",
   "id": "14",
   "metadata": {},
   "source": [
    "## Finishing `while` with `continue`\n",
    "\n",
    "Sometimes you are in an iteration of a loop and want to finish the current iteration and immediately jump to the next iteration. In that case you can use the continue statement to skip to the next iteration without finishing the body of the loop for the current iteration.\n",
    "\n",
    "Here is an example of a loop that copies its input until the user types “done”, but treats lines that start with the hash character as lines not to be printed (kind of like Python comments)."
   ]
  },
  {
   "cell_type": "code",
   "execution_count": null,
   "id": "15",
   "metadata": {},
   "outputs": [],
   "source": [
    "while True:\n",
    "    line = input('> ')\n",
    "    if line[0] == '#':\n",
    "        continue\n",
    "    if line == 'done':\n",
    "        break\n",
    "    print(line)\n",
    "\n",
    "print('Done!')"
   ]
  },
  {
   "cell_type": "markdown",
   "id": "16",
   "metadata": {},
   "source": [
    "All the lines are printed except the one that starts with the hash sign because when the continue is executed, it ends the current iteration and jumps back to the while statement to start the next iteration, thus skipping the print statement.\n",
    "\n",
    "It is important to note that `continue` is not necessary at the end of every loop. By default, a loop will return to the header line once the end of the code block is reached. `continue` is only needed when you want the code to \"skip ahead\" to the next iteration."
   ]
  },
  {
   "cell_type": "markdown",
   "id": "17",
   "metadata": {},
   "source": [
    "### Exercise\n",
    "\n",
    "Modify the code above to accomplish the following:\n",
    "\n",
    "- Print \"skipping a comment\" when a line that starts with `#` is encountered\n",
    "- Incorporate the `line == 'done'` change that that you implemented above to make the comparison case-insensitive.\n",
    "- For other user inputs, output \"User Line: 'the user input goes here'\". Note that the user input is surrounded by single quotes. Here is an example of a session with user input and output:\n",
    "\n",
    "```text\n",
    "> Auburn Tigers\n",
    "User Line: 'Auburn Tigers'\n",
    "```\n",
    "\n",
    "- At the end, replace the hard-coded output 'Done!' with the last command the user entered."
   ]
  },
  {
   "cell_type": "code",
   "execution_count": null,
   "id": "18",
   "metadata": {},
   "outputs": [],
   "source": [
    "# copy the code above and make the required changes...\n"
   ]
  },
  {
   "cell_type": "markdown",
   "id": "19",
   "metadata": {},
   "source": [
    "## Definite Loops using `for`\n",
    "\n",
    "We will often want to loop through a set of things such as a list of words, the lines in a file, or a list of numbers. When we have a list of things to loop through, we can construct a *definite* loop using a `for` statement.\n",
    "\n",
    "We can consider the `while` statement an *indefinite* loop because it simply loops until some condition becomes `False`, or a `break` statement is used to interrupt it. Instead, the `for` loop iterates through a known set of items using as many iterations as there are items in the set.\n",
    "\n",
    "The syntax of a `for` loop is similar to the `while` loop in that there is a header line and a loop body:"
   ]
  },
  {
   "cell_type": "code",
   "execution_count": null,
   "id": "20",
   "metadata": {},
   "outputs": [],
   "source": [
    "friends = ['Joseph', 'Glenn', 'Sally']\n",
    "\n",
    "# print HNY to each friend\n",
    "for friend in friends:\n",
    "    print('Happy New Year:', friend)\n",
    "\n",
    "print('Done!')"
   ]
  },
  {
   "cell_type": "markdown",
   "id": "21",
   "metadata": {},
   "source": [
    "In Python terms, the variable `friends` is a `list` of three strings and the `for` loop goes through the list, executing the body once for each.\n",
    "\n",
    "Translating this for loop to English is not as direct as the `while`, but if you think of friends as a group, it goes something like this: “Run the statements in the body of the for loop once for each friend in the group named friends.”\n",
    "\n",
    "In this loop, `for` and `in` are reserved Python keywords, and `friend` and `friends` are variables.\n",
    "In particular, `friend` is the *iteration variable* for the `for` loop. It changes for each iteration of the loop and controls when the loop completes. The iteration variable takes on the value of each element of the `friends` variable.\n",
    "\n",
    "The iteration variable can be named whatever you like. It is common in Python to use plural forms for containers (e.g. `friends`) and singular forms for iteration variables (e.g. `friend`). This makes for very readable code with obvious intent."
   ]
  },
  {
   "cell_type": "markdown",
   "id": "22",
   "metadata": {},
   "source": [
    "## Iterating on a Specified Integer Sequence\n",
    "\n",
    "So far, we've seen how to loop until a condition is met using `while` and how to loop through all the elements of a sequence using `for`. We will also commonly need to repeat something a specified number of times. For this we could use either of the following approaches:\n",
    "\n",
    "1. Use `while` with a counter:"
   ]
  },
  {
   "cell_type": "code",
   "execution_count": null,
   "id": "23",
   "metadata": {},
   "outputs": [],
   "source": [
    "counter = 0\n",
    "\n",
    "while counter < 5:\n",
    "    print(\"do this five times:\", counter + 1)\n",
    "    counter += 1"
   ]
  },
  {
   "cell_type": "markdown",
   "id": "24",
   "metadata": {},
   "source": [
    "2. Use `for` with a constructed list:"
   ]
  },
  {
   "cell_type": "code",
   "execution_count": null,
   "id": "25",
   "metadata": {},
   "outputs": [],
   "source": [
    "numbers = [1, 2, 3, 4, 5]\n",
    "\n",
    "for num in numbers:\n",
    "    print(\"do this five times:\", num)"
   ]
  },
  {
   "cell_type": "markdown",
   "id": "26",
   "metadata": {},
   "source": [
    "### The `range` Function\n",
    "\n",
    "Both methods work (though the `for` method is clumsy, at best), but there is a better way. The `range()` function creates an object that can be iterated over. It takes three arguments, `start`, `stop`, and `step`, and generates a sequence of values from `start` (inclusive) to `stop` (exclusive), incrementing or decrementing by `step`.\n",
    "\n",
    "- `stop` is the only required argument\n",
    "- if `start` is omitted, the default is zero\n",
    "- `step` gives the increment / decrement value; default is 1\n",
    "- `start`, `stop`, and `step` should be integer values\n",
    "\n",
    "This syntax is similar to what we saw in the slice operator: `[start, stop, step]`.\n",
    "\n",
    "The following examples demonstrate typical `range` use cases."
   ]
  },
  {
   "cell_type": "code",
   "execution_count": null,
   "id": "27",
   "metadata": {},
   "outputs": [],
   "source": [
    "range(3)  # creates a range object"
   ]
  },
  {
   "cell_type": "code",
   "execution_count": null,
   "id": "28",
   "metadata": {},
   "outputs": [],
   "source": [
    "type(range(3))"
   ]
  },
  {
   "cell_type": "code",
   "execution_count": null,
   "id": "29",
   "metadata": {},
   "outputs": [],
   "source": [
    "list(range(3))  # converts the range object into a list"
   ]
  },
  {
   "cell_type": "code",
   "execution_count": null,
   "id": "30",
   "metadata": {},
   "outputs": [],
   "source": [
    "list(range(0, 3))  # same as above, start defaults to zero"
   ]
  },
  {
   "cell_type": "code",
   "execution_count": null,
   "id": "31",
   "metadata": {},
   "outputs": [],
   "source": [
    "list(range(1, 4))  # values in [1, 4)"
   ]
  },
  {
   "cell_type": "code",
   "execution_count": null,
   "id": "32",
   "metadata": {},
   "outputs": [],
   "source": [
    "list(range(3, 9, 2))  # every other value from 3 up to but not including 9"
   ]
  },
  {
   "cell_type": "code",
   "execution_count": null,
   "id": "33",
   "metadata": {},
   "outputs": [],
   "source": [
    "list(range(10, 0, -1))  # step can be negative"
   ]
  },
  {
   "cell_type": "code",
   "execution_count": null,
   "id": "34",
   "metadata": {},
   "outputs": [],
   "source": [
    "list(range(0, 1, 0.1))  # TypeError, expects integer values"
   ]
  },
  {
   "cell_type": "markdown",
   "id": "35",
   "metadata": {},
   "source": [
    "### `for` Loops using `range()`\n",
    "\n",
    "Using a `for` loop in a `range` object gives a flexible, easily interpretable method to achieve this common pattern."
   ]
  },
  {
   "cell_type": "code",
   "execution_count": null,
   "id": "36",
   "metadata": {},
   "outputs": [],
   "source": [
    "for count in range(1, 6):\n",
    "    print(\"do this five times:\", count)"
   ]
  },
  {
   "cell_type": "markdown",
   "id": "37",
   "metadata": {},
   "source": [
    "## Loop Patterns\n",
    "\n",
    "Often we use a `for` or `while` loop to go through a list of items or the contents of a file and we are looking for something such as the largest or smallest value of the data we scan through.\n",
    "\n",
    "These loops are generally constructed by:\n",
    "\n",
    "- Initializing one or more variables before the loop starts\n",
    "- Performing some computation on each item in the loop body, possibly changing the variables in the body of the loop\n",
    "- Looking at the resulting variables when the loop completes\n",
    "\n",
    "We will use a list of numbers to demonstrate the concepts and construction of these loop patterns."
   ]
  },
  {
   "cell_type": "markdown",
   "id": "38",
   "metadata": {},
   "source": [
    "### Loops that count\n",
    "\n",
    "To count the number of items in a list, we would write the following for loop:"
   ]
  },
  {
   "cell_type": "code",
   "execution_count": null,
   "id": "39",
   "metadata": {},
   "outputs": [],
   "source": [
    "count = 0\n",
    "\n",
    "for itervar in [3, 41, 12, 9, 74, 15]:\n",
    "    count = count + 1\n",
    "\n",
    "print('Count: ', count)"
   ]
  },
  {
   "cell_type": "markdown",
   "id": "40",
   "metadata": {},
   "source": [
    "We set the variable count to zero before the loop starts, then we write a for loop to run through the list of numbers. Our iteration variable is named itervar and while we do not use itervar in the loop, it does control the loop and cause the loop body to be executed once for each of the values in the list.\n",
    "\n",
    "In the body of the loop, we add `1` to the current value of `count` for each of the values in the list. This represents the number of list elements the code has encountered.\n",
    "\n",
    "When the loop completes, the value of `count` is the total number of items in the list, which is exactly the result we were looking for.\n",
    "\n",
    "In real world usage, it would be more likely to see this code written as follows (though with fewer comments as the code is pretty self-explanatory):"
   ]
  },
  {
   "cell_type": "code",
   "execution_count": null,
   "id": "41",
   "metadata": {},
   "outputs": [],
   "source": [
    "count = 0\n",
    "\n",
    "# assign the list to a variable\n",
    "numbers = [3, 41, 12, 9, 74, 15]\n",
    "\n",
    "# use singular, plural variable names\n",
    "for num in numbers:\n",
    "    # use a compound operator\n",
    "    count += 1\n",
    "\n",
    "print('Count: ', count)"
   ]
  },
  {
   "cell_type": "markdown",
   "id": "42",
   "metadata": {},
   "source": [
    "Of particular note here is the use of a *compound operator*, `+=` in the statement\n",
    "\n",
    "```python\n",
    "count += 1\n",
    "```\n",
    "\n",
    "Which is simply shorthand for\n",
    "\n",
    "```python\n",
    "count = count + 1\n",
    "```\n",
    "\n",
    "Python supports this notation for all major operators, using the same syntax. For example, `-=`, `*=`, `/=`, etc. Don't let these confuse you - use the standard notation in your own code, if you prefer. But be aware you are likely to see this used in code written by others.\n",
    "\n",
    "Similarly, you are likely to see the underbar character (i.e., `_`) used as the name of the iteration variable in cases like this, where it is not used in the associated code block:"
   ]
  },
  {
   "cell_type": "code",
   "execution_count": null,
   "id": "43",
   "metadata": {},
   "outputs": [],
   "source": [
    "count = 0\n",
    "numbers = [3, 41, 12, 9, 74, 15]\n",
    "\n",
    "# the loop doesn't use the iteration variable, so '_' is used to help communicate that\n",
    "for _ in numbers:\n",
    "    count += 1\n",
    "\n",
    "print('Count: ', count)"
   ]
  },
  {
   "cell_type": "markdown",
   "id": "44",
   "metadata": {},
   "source": [
    "### Loops that sum\n",
    "\n",
    "Another similar loop that computes the total of a set of numbers is as follows:"
   ]
  },
  {
   "cell_type": "code",
   "execution_count": null,
   "id": "45",
   "metadata": {},
   "outputs": [],
   "source": [
    "total = 0\n",
    "\n",
    "for itervar in [3, 41, 12, 9, 74, 15]:\n",
    "    total = total + itervar\n",
    "\n",
    "print('Total: ', total)"
   ]
  },
  {
   "cell_type": "markdown",
   "id": "46",
   "metadata": {},
   "source": [
    "In this loop we do use the iteration variable. Instead of simply adding one to the count as in the previous loop, we add the actual number (3, 41, 12, etc.) to `total` during each loop iteration.\n",
    "\n",
    "In this code, the variable `total`, contains the “running total of the values so far”. Before the loop starts `total` is zero because we have not yet seen any values. During the loop `total` is the cumulative sum. At the end of the loop `total` is the overall sum of all the values in the list.\n",
    "\n",
    "As the loop executes, `total` *accumulates* the sum of the list elements; a variable used this way is sometimes called an *accumulator*.\n",
    "\n",
    "Neither the counting loop nor the summing loop are particularly useful in practice because there are built-in functions `len()` and `sum()` that compute the number of items in a list and the total of the items in the list respectively. It is often instructive for students to implement basic Python functions in this way."
   ]
  },
  {
   "cell_type": "markdown",
   "id": "47",
   "metadata": {},
   "source": [
    "### Loops that find maxima or minima\n",
    "\n",
    "To find the largest value in a list or sequence, we can construct the following loop:"
   ]
  },
  {
   "cell_type": "code",
   "execution_count": null,
   "id": "48",
   "metadata": {},
   "outputs": [],
   "source": [
    "largest = None\n",
    "\n",
    "print('Before:', largest)\n",
    "\n",
    "for itervar in [3, 41, 12, 9, 74, 15]:\n",
    "    if largest is None or itervar > largest :\n",
    "        largest = itervar\n",
    "    print('Loop:', itervar, largest)\n",
    "\n",
    "print('Largest:', largest)"
   ]
  },
  {
   "cell_type": "markdown",
   "id": "49",
   "metadata": {},
   "source": [
    "The variable `largest` is best thought of as the “largest value we have seen so far”. Before the loop, we set `largest` to the constant `None`. `None` is a special constant value which we can store in a variable to mark the variable as “empty”.\n",
    "\n",
    "Before the loop starts, the largest value we have seen so far is `None` since we have not yet seen any values. While the loop is executing, if `largest` is `None` then we take the first value we see as the largest so far. You can see in the first iteration when the value of `itervar` is `3`, since `largest` is `None`, we immediately set `largest` to be `3`.\n",
    "\n",
    "After the first iteration, `largest` is no longer `None`, so the second part of the compound logical expression that checks `itervar > largest` triggers only when we see a value that is larger than the “largest so far”. When we see a new “even larger” value we take that new value for `largest`. You can see in the program output that largest progresses from 3 to 41 to 74.\n",
    "\n",
    "At the end of the loop, we have scanned all of the values and the variable `largest` now does contain the largest value in the list."
   ]
  },
  {
   "cell_type": "markdown",
   "id": "50",
   "metadata": {},
   "source": [
    "#### NOTE: `is` Operator and `None`\n",
    "\n",
    "> In the code above, the comparison involving `None` uses the `is` operator, not `==`. This is a subtle but important distinction, the rationale for which is not important at this time. Just note that this is standard practice in Python whenever comparing a value to `None`.\n"
   ]
  },
  {
   "cell_type": "markdown",
   "id": "51",
   "metadata": {},
   "source": [
    "To compute the smallest number, the code is very similar with one small change:"
   ]
  },
  {
   "cell_type": "code",
   "execution_count": null,
   "id": "52",
   "metadata": {},
   "outputs": [],
   "source": [
    "smallest = None\n",
    "\n",
    "print('Before:', smallest)\n",
    "\n",
    "for itervar in [3, 41, 12, 9, 74, 15]:\n",
    "    if smallest is None or itervar < smallest:\n",
    "        smallest = itervar\n",
    "    print('Loop:', itervar, smallest)\n",
    "\n",
    "print('Smallest:', smallest)"
   ]
  },
  {
   "cell_type": "markdown",
   "id": "53",
   "metadata": {},
   "source": [
    "Again, `smallest` is the “smallest so far” before, during, and after the loop executes. When the loop has completed, `smallest` contains the minimum value in the list.\n",
    "\n",
    "Again as in counting and summing, the built-in functions `max()` and `min()` make writing these exact loops unnecessary."
   ]
  },
  {
   "cell_type": "markdown",
   "id": "54",
   "metadata": {},
   "source": [
    "## Best Practices with Loops\n",
    "\n",
    "Perhaps the most confusing thing for beginners learning loops in Python is when to use `for` or `while`. Let's boil it down to this:\n",
    "\n",
    "- Always use `for` to iterate over the contents of a sequence (e.g. string or list) or other iterable object types\n",
    "- Prefer `for ... in range()` when doing a known number of iterations or when looping over a known set of integer values.\n",
    "- Only use `while` when you need to use it - when the number of iterations is unknown / indefinite or you have to loop \"until something happens.\"\n",
    "- Only use `break` and/or `continue` when they simplify the logic and/or improve the readability of the code."
   ]
  },
  {
   "cell_type": "markdown",
   "id": "55",
   "metadata": {},
   "source": [
    "## Exercise\n",
    "\n",
    "Use the code chunks provided above to build a program that:\n",
    "\n",
    "1. Gets user input until \"done\" (case insensitive)\n",
    "2. Builds a list of integers from those inputs\n",
    "3. Print the list as `Resulting List: <list>`\n",
    "4. Print the length of the list as `List contains <value> elements`\n",
    "5. Uses a loop to find the maximum value in the list\n",
    "6. At each iteration of the loop print the loop number, the current value, and the largest value using the following format:\n",
    "\n",
    "```text\n",
    "Format:\n",
    "Loop: <number>, Testing: <number>, Largest: <value>\n",
    "\n",
    "Example:\n",
    "Loop: 3, Testing: 12, Largest: 41\n",
    "```\n",
    "\n",
    "6. At the completion of the loop print the largest value as `Largest Value: <value>`\n",
    "7. Include blank lines before printing the resulting list, first loop output, and largest value.\n"
   ]
  },
  {
   "cell_type": "code",
   "execution_count": null,
   "id": "56",
   "metadata": {},
   "outputs": [],
   "source": [
    "# code outline\n",
    "\n",
    "# build a list of integers from user input\n",
    "\n",
    "# print list results\n",
    "\n",
    "# find the maximum value in the list using a loop\n",
    "\n",
    "# print the largest value\n"
   ]
  },
  {
   "cell_type": "markdown",
   "id": "57",
   "metadata": {
    "jp-MarkdownHeadingCollapsed": true
   },
   "source": [
    "### Solution\n",
    "\n",
    "Important notes:\n",
    "\n",
    "- convert `user_input` to `int` only after comparing with \"done\"\n",
    "- build list by initializing an empty list and `append`ing values to it\n",
    "- `print()` produces a blank line; alternatively include `\\n` in print strings\n",
    "- initialized `counter` to `1`, not zero, incremented after the `print`\n"
   ]
  },
  {
   "cell_type": "code",
   "execution_count": null,
   "id": "58",
   "metadata": {},
   "outputs": [],
   "source": [
    "numbers = []\n",
    "\n",
    "while True:\n",
    "    user_input = input(\"Enter an integer value or 'Done' to stop: \")\n",
    "    if user_input.lower() == \"done\":\n",
    "        break\n",
    "    numbers.append(int(user_input))\n",
    "\n",
    "print()\n",
    "print(\"Resulting list:\", numbers)\n",
    "print(\"List contains\", len(numbers), \"elements\")\n",
    "\n",
    "largest = None\n",
    "counter = 1\n",
    "\n",
    "print()\n",
    "for num in numbers:\n",
    "    if largest is None or num > largest :\n",
    "        largest = num\n",
    "    print(f'Loop: {counter}, Testing: {num}, Largest: {largest}')\n",
    "    counter += 1\n",
    "\n",
    "print()\n",
    "print('Largest Value:', largest)"
   ]
  },
  {
   "cell_type": "markdown",
   "id": "59",
   "metadata": {},
   "source": [
    "## Debugging\n",
    "\n",
    "As you start writing bigger programs, you might find yourself spending more time debugging. More code means more chances to make an error and more places for bugs to hide.\n",
    "\n",
    "One way to cut your debugging time is “debugging by bisection.” For example, if there are 100 lines in your program and you check them one at a time, it would take 100 steps.\n",
    "\n",
    "Instead, try to break the problem in half. Look at the middle of the program, or near it, for an intermediate value you can check. Add a print statement (or something else that has a verifiable effect) and run the program.\n",
    "\n",
    "If the mid-point check is incorrect, the problem must be in the first half of the program. If it is correct, the problem is in the second half.\n",
    "\n",
    "Every time you perform a check like this, you halve the number of lines you have to search. After six steps (which is much less than 100), you would be down to one or two lines of code, at least in theory.\n",
    "\n",
    "In practice it is not always clear what the “middle of the program” is and not always possible to check it. It doesn’t make sense to count lines and find the exact midpoint. Instead, think about places in the program where there might be errors and places where it is easy to put a check. Then choose a spot where you think the chances are about the same that the bug is before or after the check."
   ]
  },
  {
   "cell_type": "markdown",
   "id": "60",
   "metadata": {},
   "source": [
    "## Glossary\n",
    "\n",
    "- accumulator: A variable used in a loop to add up or accumulate a result.\n",
    "- counter: A variable used in a loop to count the number of times something happened. We initialize a counter to zero and then increment the counter each time we want to “count” something.\n",
    "- decrement: An update that decreases the value of a variable.\n",
    "- initialize: An assignment that gives an initial value to a variable that will be updated.\n",
    "- increment: An update that increases the value of a variable (often by one).\n",
    "- infinite loop: A loop in which the terminating condition is never satisfied or for which there is no terminating condition.\n",
    "- iteration: Repeated execution of a set of statements using either a function that calls itself or a loop."
   ]
  },
  {
   "cell_type": "markdown",
   "id": "61",
   "metadata": {},
   "source": [
    "## Exercises\n",
    "\n",
    "### List Statistics\n",
    "\n",
    "Extend the last exercise to include the minimum value in the list, along with the total and average value of all elements.\n"
   ]
  },
  {
   "cell_type": "code",
   "execution_count": null,
   "id": "62",
   "metadata": {},
   "outputs": [],
   "source": [
    "# go for it.\n"
   ]
  },
  {
   "cell_type": "markdown",
   "id": "63",
   "metadata": {},
   "source": [
    "### Values in a Specified Range\n",
    "\n",
    "How would you change the List Statistics code (or the code it was based on if you did not complete that exercise) to only act on elements between a minimum and maximum value that you get from the user?"
   ]
  },
  {
   "cell_type": "code",
   "execution_count": null,
   "id": "64",
   "metadata": {},
   "outputs": [],
   "source": [
    "# write code here...\n"
   ]
  },
  {
   "cell_type": "markdown",
   "id": "65",
   "metadata": {},
   "source": [
    "---\n",
    "\n",
    "Auburn University / Industrial and Systems Engineering  \n",
    "INSY 3010 / Programming and Databases for ISE / Fall 2024  \n",
    "© Copyright 2024, Danny J. O'Leary.  \n",
    "For licensing, attribution, and information: [GitHub INSY3010-Fall24](https://github.com/olearydj/INSY3010-Fall24)\n"
   ]
  }
 ],
 "metadata": {
  "kernelspec": {
   "display_name": "Python 3 (ipykernel)",
   "language": "python",
   "name": "python3"
  },
  "language_info": {
   "codemirror_mode": {
    "name": "ipython",
    "version": 3
   },
   "file_extension": ".py",
   "mimetype": "text/x-python",
   "name": "python",
   "nbconvert_exporter": "python",
   "pygments_lexer": "ipython3",
   "version": "3.12.3"
  }
 },
 "nbformat": 4,
 "nbformat_minor": 5
}
