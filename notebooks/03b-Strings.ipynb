{
  "cells": [
    {
      "cell_type": "markdown",
      "id": "0",
      "metadata": {
        "tags": [
          "remove-cell"
        ],
        "id": "0"
      },
      "source": [
        "# Strings\n",
        "\n",
        "This material is from Chapter 8 of [*Think Python*, 3rd edition](https://greenteapress.com/wp/think-python-3rd-edition), by Allen B. Downey. I have adapted it for this class."
      ]
    },
    {
      "cell_type": "markdown",
      "id": "1",
      "metadata": {
        "id": "1"
      },
      "source": [
        "Strings are not like integers or floats. A string is a **sequence**, which means it contains multiple values in a particular order.\n",
        "In this chapter we'll see how to access the values that make up a string, and we'll use functions that process strings."
      ]
    },
    {
      "cell_type": "markdown",
      "id": "2",
      "metadata": {
        "id": "2"
      },
      "source": [
        "## A string is a sequence\n",
        "\n",
        "A string is a sequence of characters. A **character** can be a letter (in almost any alphabet), a digit, a punctuation mark, or white space.\n",
        "\n",
        "You can select a character from a string with the bracket operator.\n",
        "This example statement selects character number 1 from `fruit` and\n",
        "assigns it to `letter`:"
      ]
    },
    {
      "cell_type": "code",
      "execution_count": 2,
      "id": "3",
      "metadata": {
        "id": "3",
        "outputId": "cdb78a39-024c-4dba-9104-bc1c6ac283d8",
        "colab": {
          "base_uri": "https://localhost:8080/",
          "height": 35
        }
      },
      "outputs": [
        {
          "output_type": "execute_result",
          "data": {
            "text/plain": [
              "'a'"
            ],
            "application/vnd.google.colaboratory.intrinsic+json": {
              "type": "string"
            }
          },
          "metadata": {},
          "execution_count": 2
        }
      ],
      "source": [
        "fruit = 'banana'\n",
        "letter = fruit[1]\n",
        "letter"
      ]
    },
    {
      "cell_type": "markdown",
      "id": "4",
      "metadata": {
        "id": "4"
      },
      "source": [
        "The expression in brackets is an **index**, so called because it *indicates* which character in the sequence to select.\n",
        "But the result might not be what you expect."
      ]
    },
    {
      "cell_type": "code",
      "execution_count": 3,
      "id": "5",
      "metadata": {
        "id": "5",
        "outputId": "3ea1c43b-ebb3-4154-d8ca-7b6c6887666c",
        "colab": {
          "base_uri": "https://localhost:8080/",
          "height": 35
        }
      },
      "outputs": [
        {
          "output_type": "execute_result",
          "data": {
            "text/plain": [
              "'a'"
            ],
            "application/vnd.google.colaboratory.intrinsic+json": {
              "type": "string"
            }
          },
          "metadata": {},
          "execution_count": 3
        }
      ],
      "source": [
        "letter"
      ]
    },
    {
      "cell_type": "code",
      "execution_count": 4,
      "id": "6",
      "metadata": {
        "id": "6",
        "outputId": "39a556b9-6ca1-465d-9656-35c3ea02856a",
        "colab": {
          "base_uri": "https://localhost:8080/",
          "height": 35
        }
      },
      "outputs": [
        {
          "output_type": "execute_result",
          "data": {
            "text/plain": [
              "'n'"
            ],
            "application/vnd.google.colaboratory.intrinsic+json": {
              "type": "string"
            }
          },
          "metadata": {},
          "execution_count": 4
        }
      ],
      "source": [
        "fruit[len(fruit) - 2]"
      ]
    },
    {
      "cell_type": "markdown",
      "id": "7",
      "metadata": {
        "id": "7"
      },
      "source": [
        "The letter with index `1` is actually the second letter of the string.\n",
        "An index is an offset from the beginning of the string, so the offset of the first letter is `0`."
      ]
    },
    {
      "cell_type": "code",
      "execution_count": 5,
      "id": "8",
      "metadata": {
        "id": "8",
        "outputId": "5cfed89f-f46a-4756-c53b-1228c7fbe128",
        "colab": {
          "base_uri": "https://localhost:8080/",
          "height": 35
        }
      },
      "outputs": [
        {
          "output_type": "execute_result",
          "data": {
            "text/plain": [
              "'b'"
            ],
            "application/vnd.google.colaboratory.intrinsic+json": {
              "type": "string"
            }
          },
          "metadata": {},
          "execution_count": 5
        }
      ],
      "source": [
        "fruit[0]"
      ]
    },
    {
      "cell_type": "markdown",
      "id": "9",
      "metadata": {
        "id": "9"
      },
      "source": [
        "You can think of `'b'` as the 0th letter of `'banana'` -- pronounced \"zero-eth\".\n",
        "\n",
        "The index in brackets can be a variable."
      ]
    },
    {
      "cell_type": "code",
      "execution_count": 6,
      "id": "10",
      "metadata": {
        "id": "10",
        "outputId": "e6a5d47d-8261-4a4c-976f-73e31559d54e",
        "colab": {
          "base_uri": "https://localhost:8080/",
          "height": 35
        }
      },
      "outputs": [
        {
          "output_type": "execute_result",
          "data": {
            "text/plain": [
              "'a'"
            ],
            "application/vnd.google.colaboratory.intrinsic+json": {
              "type": "string"
            }
          },
          "metadata": {},
          "execution_count": 6
        }
      ],
      "source": [
        "i = 1\n",
        "fruit[i]"
      ]
    },
    {
      "cell_type": "markdown",
      "id": "11",
      "metadata": {
        "id": "11"
      },
      "source": [
        "Or an expression that contains variables and operators."
      ]
    },
    {
      "cell_type": "code",
      "execution_count": 7,
      "id": "12",
      "metadata": {
        "id": "12",
        "outputId": "571052e2-f15a-433a-98c3-32f40a02f744",
        "colab": {
          "base_uri": "https://localhost:8080/",
          "height": 35
        }
      },
      "outputs": [
        {
          "output_type": "execute_result",
          "data": {
            "text/plain": [
              "'n'"
            ],
            "application/vnd.google.colaboratory.intrinsic+json": {
              "type": "string"
            }
          },
          "metadata": {},
          "execution_count": 7
        }
      ],
      "source": [
        "fruit[i+1]"
      ]
    },
    {
      "cell_type": "markdown",
      "id": "13",
      "metadata": {
        "id": "13"
      },
      "source": [
        "But the value of the index has to be an integer -- otherwise you get a\n",
        "\n",
        "\n",
        "`TypeError`."
      ]
    },
    {
      "cell_type": "code",
      "execution_count": 8,
      "id": "14",
      "metadata": {
        "id": "14",
        "tags": [
          "raises-exception"
        ],
        "outputId": "b5e707c6-faa8-42dc-fc0c-9f13b6fe47fa",
        "colab": {
          "base_uri": "https://localhost:8080/",
          "height": 141
        }
      },
      "outputs": [
        {
          "output_type": "error",
          "ename": "TypeError",
          "evalue": "string indices must be integers, not 'float'",
          "traceback": [
            "\u001b[0;31m---------------------------------------------------------------------------\u001b[0m",
            "\u001b[0;31mTypeError\u001b[0m                                 Traceback (most recent call last)",
            "\u001b[0;32m<ipython-input-8-bf9cc58e8398>\u001b[0m in \u001b[0;36m<cell line: 0>\u001b[0;34m()\u001b[0m\n\u001b[0;32m----> 1\u001b[0;31m \u001b[0mfruit\u001b[0m\u001b[0;34m[\u001b[0m\u001b[0;36m1.5\u001b[0m\u001b[0;34m]\u001b[0m\u001b[0;34m\u001b[0m\u001b[0;34m\u001b[0m\u001b[0m\n\u001b[0m",
            "\u001b[0;31mTypeError\u001b[0m: string indices must be integers, not 'float'"
          ]
        }
      ],
      "source": [
        "fruit[1.5]"
      ]
    },
    {
      "cell_type": "markdown",
      "id": "15",
      "metadata": {
        "id": "15"
      },
      "source": [
        "As we saw in Chapter 1, we can use the built-in function `len` to get the length of a string."
      ]
    },
    {
      "cell_type": "code",
      "execution_count": 9,
      "id": "16",
      "metadata": {
        "id": "16",
        "outputId": "9aa50836-adf3-43d3-bc72-66083a9d4bd5",
        "colab": {
          "base_uri": "https://localhost:8080/"
        }
      },
      "outputs": [
        {
          "output_type": "execute_result",
          "data": {
            "text/plain": [
              "6"
            ]
          },
          "metadata": {},
          "execution_count": 9
        }
      ],
      "source": [
        "n = len(fruit)\n",
        "n"
      ]
    },
    {
      "cell_type": "markdown",
      "id": "17",
      "metadata": {
        "id": "17"
      },
      "source": [
        "To get the last letter of a string, you might be tempted to write this:"
      ]
    },
    {
      "cell_type": "code",
      "execution_count": 10,
      "id": "18",
      "metadata": {
        "id": "18",
        "tags": [
          "raises-exception"
        ],
        "outputId": "4287db8a-3ca7-44ef-fc0a-8651a4c4108e",
        "colab": {
          "base_uri": "https://localhost:8080/",
          "height": 141
        }
      },
      "outputs": [
        {
          "output_type": "error",
          "ename": "IndexError",
          "evalue": "string index out of range",
          "traceback": [
            "\u001b[0;31m---------------------------------------------------------------------------\u001b[0m",
            "\u001b[0;31mIndexError\u001b[0m                                Traceback (most recent call last)",
            "\u001b[0;32m<ipython-input-10-c6a6bb896eb2>\u001b[0m in \u001b[0;36m<cell line: 0>\u001b[0;34m()\u001b[0m\n\u001b[0;32m----> 1\u001b[0;31m \u001b[0mfruit\u001b[0m\u001b[0;34m[\u001b[0m\u001b[0mn\u001b[0m\u001b[0;34m]\u001b[0m\u001b[0;34m\u001b[0m\u001b[0;34m\u001b[0m\u001b[0m\n\u001b[0m",
            "\u001b[0;31mIndexError\u001b[0m: string index out of range"
          ]
        }
      ],
      "source": [
        "fruit[n]"
      ]
    },
    {
      "cell_type": "markdown",
      "id": "19",
      "metadata": {
        "id": "19"
      },
      "source": [
        "But that causes an `IndexError` because there is no letter in `'banana'` with the index 6. Because we started counting at `0`, the six letters are numbered `0` to `5`. To get the last character, you have to subtract `1` from `n`:"
      ]
    },
    {
      "cell_type": "code",
      "execution_count": 11,
      "id": "20",
      "metadata": {
        "id": "20",
        "outputId": "0c3ffc53-0edf-4b6d-c364-1b3b903aab6d",
        "colab": {
          "base_uri": "https://localhost:8080/",
          "height": 35
        }
      },
      "outputs": [
        {
          "output_type": "execute_result",
          "data": {
            "text/plain": [
              "'a'"
            ],
            "application/vnd.google.colaboratory.intrinsic+json": {
              "type": "string"
            }
          },
          "metadata": {},
          "execution_count": 11
        }
      ],
      "source": [
        "fruit[n-1]"
      ]
    },
    {
      "cell_type": "markdown",
      "id": "21",
      "metadata": {
        "id": "21"
      },
      "source": [
        "But there's an easier way.\n",
        "To get the last letter in a string, you can use a negative index, which counts backward from the end."
      ]
    },
    {
      "cell_type": "code",
      "execution_count": 20,
      "id": "22",
      "metadata": {
        "id": "22",
        "outputId": "82ad89ca-e3b1-4323-d3eb-0aaf34e43ce9",
        "colab": {
          "base_uri": "https://localhost:8080/",
          "height": 35
        }
      },
      "outputs": [
        {
          "output_type": "execute_result",
          "data": {
            "text/plain": [
              "'n'"
            ],
            "application/vnd.google.colaboratory.intrinsic+json": {
              "type": "string"
            }
          },
          "metadata": {},
          "execution_count": 20
        }
      ],
      "source": [
        "fruit[-2]  # same as fruit[len(fruit) - 2]"
      ]
    },
    {
      "cell_type": "markdown",
      "id": "23",
      "metadata": {
        "id": "23"
      },
      "source": [
        "The index `-1` selects the last letter, `-2` selects the second to last, and so on."
      ]
    },
    {
      "cell_type": "markdown",
      "id": "24",
      "metadata": {
        "id": "24"
      },
      "source": [
        "### Exercise\n",
        "\n",
        "Get a string from the user with `input()` and extract the middle three characters.\n",
        "\n",
        "**Hint**: use `len()`, floor (`//`), indexing (`[]`), and concatentation (`+`)."
      ]
    },
    {
      "cell_type": "code",
      "execution_count": 39,
      "id": "25",
      "metadata": {
        "id": "25",
        "outputId": "267610dd-65fe-4867-bcd5-7081c58a6b3b",
        "colab": {
          "base_uri": "https://localhost:8080/"
        }
      },
      "outputs": [
        {
          "output_type": "stream",
          "name": "stdout",
          "text": [
            "subscript\n",
            "s c r\n"
          ]
        }
      ],
      "source": [
        "# extract three middle characters from user input\n",
        "\n",
        "user_input = input()\n",
        "\n",
        "mid_point = len(user_input) // 2\n",
        "mid_point\n",
        "middle = user_input[mid_point]\n",
        "middle\n",
        "\n",
        "left = user_input[mid_point - 1]\n",
        "right = user_input[mid_point + 1]\n",
        "\n",
        "print(left, middle, right, sep = ' ')"
      ]
    },
    {
      "cell_type": "markdown",
      "id": "26",
      "metadata": {
        "id": "26"
      },
      "source": [
        "#### Solution\n",
        "\n",
        "Unhide this section to check your answer."
      ]
    },
    {
      "cell_type": "code",
      "execution_count": null,
      "id": "27",
      "metadata": {
        "id": "27"
      },
      "outputs": [],
      "source": [
        "# get input\n",
        "user_input = input()\n",
        "\n",
        "## extract middle three characters\n",
        "\n",
        "# find the midpoint index using floor to deal with even/odd str length\n",
        "mid_point = len(user_input) // 2\n",
        "middle = user_input[mid_point]\n",
        "\n",
        "# get the adjacent characters\n",
        "left = user_input[mid_point - 1]\n",
        "right = user_input[mid_point + 1]\n",
        "\n",
        "# concatenate result\n",
        "result = left + middle + right\n",
        "\n",
        "# print the result\n",
        "print(result)\n"
      ]
    },
    {
      "cell_type": "markdown",
      "id": "28",
      "metadata": {
        "id": "28"
      },
      "source": [
        "Instead of concatenting the result, you can use the `sep` argument of `print`."
      ]
    },
    {
      "cell_type": "code",
      "execution_count": null,
      "id": "29",
      "metadata": {
        "id": "29"
      },
      "outputs": [],
      "source": [
        "print(left, middle, right, sep='')"
      ]
    },
    {
      "cell_type": "markdown",
      "id": "30",
      "metadata": {
        "id": "30"
      },
      "source": [
        "To get more info on this and other options, use `help`."
      ]
    },
    {
      "cell_type": "code",
      "execution_count": null,
      "id": "31",
      "metadata": {
        "id": "31"
      },
      "outputs": [],
      "source": [
        "help(print)"
      ]
    },
    {
      "cell_type": "markdown",
      "id": "32",
      "metadata": {
        "id": "32"
      },
      "source": [
        "## String slices\n",
        "\n",
        "A segment of a string is called a **slice**.\n",
        "Selecting a slice is similar to selecting a character."
      ]
    },
    {
      "cell_type": "code",
      "execution_count": 40,
      "id": "33",
      "metadata": {
        "id": "33",
        "outputId": "c7c5eabc-9f05-4bee-9715-8f6e08c6f2e9",
        "colab": {
          "base_uri": "https://localhost:8080/",
          "height": 35
        }
      },
      "outputs": [
        {
          "output_type": "execute_result",
          "data": {
            "text/plain": [
              "'icing'"
            ],
            "application/vnd.google.colaboratory.intrinsic+json": {
              "type": "string"
            }
          },
          "metadata": {},
          "execution_count": 40
        }
      ],
      "source": [
        "text = 'Slicing is easy!'\n",
        "text[2:7]"
      ]
    },
    {
      "cell_type": "markdown",
      "id": "34",
      "metadata": {
        "id": "34"
      },
      "source": [
        "The operator `[n:m]` returns the part of the string from the `n`th\n",
        "character to the `m`th character, including the first but excluding the second.\n",
        "If this behavior seems counterintuitive, it may help to imagine the indices pointing *between* the characters, as in this figure:\n",
        "\n",
        "![Slicing](https://github.com/olearydj/INSY3010/blob/main/images/slicing.png?raw=1)\n"
      ]
    },
    {
      "cell_type": "markdown",
      "id": "35",
      "metadata": {
        "id": "35"
      },
      "source": [
        "Note that the slice `[11:16]` selects the letters `icing`, which means that `16` is legal as part of a slice, but not legal as an index:"
      ]
    },
    {
      "cell_type": "code",
      "execution_count": 48,
      "id": "36",
      "metadata": {
        "id": "36",
        "outputId": "acd9bdd0-b99c-4497-ac18-f36afe4a5576",
        "colab": {
          "base_uri": "https://localhost:8080/",
          "height": 35
        }
      },
      "outputs": [
        {
          "output_type": "execute_result",
          "data": {
            "text/plain": [
              "'easy!'"
            ],
            "application/vnd.google.colaboratory.intrinsic+json": {
              "type": "string"
            }
          },
          "metadata": {},
          "execution_count": 48
        }
      ],
      "source": [
        "text[11:99]  # this is ok..."
      ]
    },
    {
      "cell_type": "code",
      "execution_count": 49,
      "id": "37",
      "metadata": {
        "id": "37",
        "outputId": "3c349a2f-89cf-4f72-da46-fd6fc23d5eb0",
        "colab": {
          "base_uri": "https://localhost:8080/",
          "height": 35
        }
      },
      "outputs": [
        {
          "output_type": "execute_result",
          "data": {
            "text/plain": [
              "'!'"
            ],
            "application/vnd.google.colaboratory.intrinsic+json": {
              "type": "string"
            }
          },
          "metadata": {},
          "execution_count": 49
        }
      ],
      "source": [
        "text[15]  # but this is not!"
      ]
    },
    {
      "cell_type": "markdown",
      "id": "38",
      "metadata": {
        "id": "38"
      },
      "source": [
        "If you omit the first index, the slice starts at the beginning of the string."
      ]
    },
    {
      "cell_type": "code",
      "execution_count": 50,
      "id": "39",
      "metadata": {
        "id": "39",
        "outputId": "2583b565-090d-4310-9e95-be96198b2f02",
        "colab": {
          "base_uri": "https://localhost:8080/",
          "height": 35
        }
      },
      "outputs": [
        {
          "output_type": "execute_result",
          "data": {
            "text/plain": [
              "'Slicing'"
            ],
            "application/vnd.google.colaboratory.intrinsic+json": {
              "type": "string"
            }
          },
          "metadata": {},
          "execution_count": 50
        }
      ],
      "source": [
        "text[:7]"
      ]
    },
    {
      "cell_type": "markdown",
      "id": "40",
      "metadata": {
        "id": "40"
      },
      "source": [
        "If you omit the second index, the slice goes to the end of the string:"
      ]
    },
    {
      "cell_type": "code",
      "execution_count": 51,
      "id": "41",
      "metadata": {
        "id": "41",
        "outputId": "b093d3b2-3212-4758-88b3-21896e9bad60",
        "colab": {
          "base_uri": "https://localhost:8080/",
          "height": 35
        }
      },
      "outputs": [
        {
          "output_type": "execute_result",
          "data": {
            "text/plain": [
              "'is easy!'"
            ],
            "application/vnd.google.colaboratory.intrinsic+json": {
              "type": "string"
            }
          },
          "metadata": {},
          "execution_count": 51
        }
      ],
      "source": [
        "text[8:]"
      ]
    },
    {
      "cell_type": "markdown",
      "id": "42",
      "metadata": {
        "id": "42"
      },
      "source": [
        "If the first index is greater than or equal to the second, the result is an **empty string**, represented by two quotation marks:"
      ]
    },
    {
      "cell_type": "code",
      "execution_count": 52,
      "id": "43",
      "metadata": {
        "id": "43",
        "outputId": "24f37ac6-a94e-42f4-f954-7d13066ca988",
        "colab": {
          "base_uri": "https://localhost:8080/",
          "height": 35
        }
      },
      "outputs": [
        {
          "output_type": "execute_result",
          "data": {
            "text/plain": [
              "''"
            ],
            "application/vnd.google.colaboratory.intrinsic+json": {
              "type": "string"
            }
          },
          "metadata": {},
          "execution_count": 52
        }
      ],
      "source": [
        "text[3:3]"
      ]
    },
    {
      "cell_type": "markdown",
      "id": "44",
      "metadata": {
        "id": "44"
      },
      "source": [
        "An empty string contains no characters and has length 0.\n",
        "\n",
        "Continuing this example, what do you think `text[:]` means? Try it and\n",
        "see."
      ]
    },
    {
      "cell_type": "code",
      "execution_count": 53,
      "id": "45",
      "metadata": {
        "id": "45",
        "tags": [
          "remove-cell"
        ],
        "outputId": "bed61433-9aec-4a17-fa65-560a6e0286c4",
        "colab": {
          "base_uri": "https://localhost:8080/",
          "height": 35
        }
      },
      "outputs": [
        {
          "output_type": "execute_result",
          "data": {
            "text/plain": [
              "'Slicing is easy!'"
            ],
            "application/vnd.google.colaboratory.intrinsic+json": {
              "type": "string"
            }
          },
          "metadata": {},
          "execution_count": 53
        }
      ],
      "source": [
        "text[:]"
      ]
    },
    {
      "cell_type": "markdown",
      "id": "46",
      "metadata": {
        "id": "46"
      },
      "source": [
        "### Exercise\n",
        "\n",
        "Use slicing instead of indexing to repeat the previous exercise, extracting the three middle characters of a user input string."
      ]
    },
    {
      "cell_type": "code",
      "execution_count": 55,
      "id": "47",
      "metadata": {
        "id": "47",
        "outputId": "65034472-2686-42b4-ac43-a5f6941b316f",
        "colab": {
          "base_uri": "https://localhost:8080/"
        }
      },
      "outputs": [
        {
          "output_type": "stream",
          "name": "stdout",
          "text": [
            "four\n",
            "our\n"
          ]
        }
      ],
      "source": [
        "user_input = input()\n",
        "\n",
        "mid_point = len(user_input) // 2\n",
        "\n",
        "result = user_input[(mid_point - 1):(mid_point + 2)]\n",
        "\n",
        "print(result)"
      ]
    },
    {
      "cell_type": "markdown",
      "id": "48",
      "metadata": {
        "id": "48"
      },
      "source": [
        "#### Solution\n",
        "\n",
        "Unhide this section to check your answer."
      ]
    },
    {
      "cell_type": "code",
      "execution_count": null,
      "id": "49",
      "metadata": {
        "id": "49"
      },
      "outputs": [],
      "source": [
        "# get input\n",
        "user_input = input()\n",
        "\n",
        "## extract middle three characters\n",
        "\n",
        "# find the midpoint index using floor to deal with even/odd str length\n",
        "mid_point = len(user_input) // 2\n",
        "\n",
        "result = user_input[mid_point - 1:mid_point + 2]\n",
        "\n",
        "# print the result\n",
        "print(result)"
      ]
    },
    {
      "cell_type": "markdown",
      "id": "50",
      "metadata": {
        "id": "50"
      },
      "source": [
        "## Strings are immutable\n",
        "\n",
        "It is tempting to use the `[]` operator on the left side of an\n",
        "assignment, with the intention of changing a character in a string, like this:"
      ]
    },
    {
      "cell_type": "code",
      "execution_count": 2,
      "id": "51",
      "metadata": {
        "id": "51",
        "tags": [
          "raises-exception"
        ],
        "outputId": "b9809842-3c5f-4609-d871-0435663404d5",
        "colab": {
          "base_uri": "https://localhost:8080/",
          "height": 159
        }
      },
      "outputs": [
        {
          "output_type": "error",
          "ename": "TypeError",
          "evalue": "'str' object does not support item assignment",
          "traceback": [
            "\u001b[0;31m---------------------------------------------------------------------------\u001b[0m",
            "\u001b[0;31mTypeError\u001b[0m                                 Traceback (most recent call last)",
            "\u001b[0;32m<ipython-input-2-217c78420f62>\u001b[0m in \u001b[0;36m<cell line: 0>\u001b[0;34m()\u001b[0m\n\u001b[1;32m      1\u001b[0m \u001b[0mgreeting\u001b[0m \u001b[0;34m=\u001b[0m \u001b[0;34m'Hello, world!'\u001b[0m\u001b[0;34m\u001b[0m\u001b[0;34m\u001b[0m\u001b[0m\n\u001b[0;32m----> 2\u001b[0;31m \u001b[0mgreeting\u001b[0m\u001b[0;34m[\u001b[0m\u001b[0;36m0\u001b[0m\u001b[0;34m]\u001b[0m \u001b[0;34m=\u001b[0m \u001b[0;34m'J'\u001b[0m\u001b[0;34m\u001b[0m\u001b[0;34m\u001b[0m\u001b[0m\n\u001b[0m",
            "\u001b[0;31mTypeError\u001b[0m: 'str' object does not support item assignment"
          ]
        }
      ],
      "source": [
        "greeting = 'Hello, world!'\n",
        "greeting[0] = 'J'"
      ]
    },
    {
      "cell_type": "markdown",
      "id": "52",
      "metadata": {
        "id": "52"
      },
      "source": [
        "The result is a `TypeError`.\n",
        "In the error message, the \"object\" is the string and the \"item\" is the character\n",
        "we tried to assign.\n",
        "For now, an **object** is the same thing as a value, but we will refine that definition later.\n",
        "\n",
        "The reason for this error is that strings are **immutable**, which means you can't change an existing string.\n",
        "The best you can do is create a new string that is a variation of the original."
      ]
    },
    {
      "cell_type": "code",
      "execution_count": 3,
      "id": "53",
      "metadata": {
        "id": "53",
        "outputId": "0167757e-a0b0-4478-a098-7be4272596f1",
        "colab": {
          "base_uri": "https://localhost:8080/",
          "height": 35
        }
      },
      "outputs": [
        {
          "output_type": "execute_result",
          "data": {
            "text/plain": [
              "'Jello, world!'"
            ],
            "application/vnd.google.colaboratory.intrinsic+json": {
              "type": "string"
            }
          },
          "metadata": {},
          "execution_count": 3
        }
      ],
      "source": [
        "new_greeting = 'J' + greeting[1:]\n",
        "new_greeting"
      ]
    },
    {
      "cell_type": "markdown",
      "id": "54",
      "metadata": {
        "id": "54"
      },
      "source": [
        "This example concatenates a new first letter onto a slice of `greeting`.\n",
        "It has no effect on the original string."
      ]
    },
    {
      "cell_type": "code",
      "execution_count": null,
      "id": "55",
      "metadata": {
        "id": "55"
      },
      "outputs": [],
      "source": [
        "greeting"
      ]
    },
    {
      "cell_type": "markdown",
      "id": "56",
      "metadata": {
        "id": "56"
      },
      "source": [
        "## String methods\n",
        "\n",
        "Strings provide methods that perform a variety of useful operations.\n",
        "A method is similar to a function -- it takes arguments and returns a value -- but the syntax is different.\n",
        "For example, the method `upper` takes a string and returns a new string with all uppercase letters.\n",
        "\n",
        "Instead of the function syntax `upper(word)`, it uses the method syntax `word.upper()`."
      ]
    },
    {
      "cell_type": "code",
      "execution_count": 17,
      "id": "57",
      "metadata": {
        "id": "57",
        "outputId": "31180a22-b585-46e0-c8df-15d050c269b7",
        "colab": {
          "base_uri": "https://localhost:8080/",
          "height": 35
        }
      },
      "outputs": [
        {
          "output_type": "execute_result",
          "data": {
            "text/plain": [
              "'BANANA'"
            ],
            "application/vnd.google.colaboratory.intrinsic+json": {
              "type": "string"
            }
          },
          "metadata": {},
          "execution_count": 17
        }
      ],
      "source": [
        "word = 'banana'\n",
        "new_word = word.upper()\n",
        "new_word"
      ]
    },
    {
      "cell_type": "markdown",
      "id": "58",
      "metadata": {
        "id": "58"
      },
      "source": [
        "This use of the dot operator specifies the name of the method, `upper`, and the name of the string to apply the method to, `word`. The empty parentheses indicate that this method takes no arguments.\n",
        "\n",
        "Some of the most commonly used string methods in Python are tabulated below. The `str.method()` notation indicates that any string object (`str`) can call these methods using dot notation, as with `word.upper()` above. For reasons beyond the scope of this course, the format `str.upper(word)` will also work, but is discouraged.\n",
        "\n",
        "| **Category**           | **Method**                          | **Description** |\n",
        "|------------------------|------------------------------------|----------------|\n",
        "| **Case Manipulation**  | `str.lower()`                      | Converts all characters to lowercase. |\n",
        "|                        | `str.upper()`                      | Converts all characters to uppercase. |\n",
        "|                        | `str.title()`                      | Capitalizes the first letter of each word. |\n",
        "|                        | `str.capitalize()`                 | Capitalizes the first letter of the string. |\n",
        "| **Whitespace & Formatting** | `str.strip()`                 | Removes leading and trailing whitespace. |\n",
        "| **Finding & Replacing**| `str.find(sub, start, end)`        | Returns index of first occurrence of `sub`, or `-1` if not found. |\n",
        "|                        | `str.replace(old, new, count)`     | Replaces occurrences of `old` with `new`. |\n",
        "|                        | `str.count(sub)`                   | Counts occurrences of `sub`. |\n",
        "| **Checking Content**   | `str.isalpha()`                    | Returns `True` if all characters are letters. |\n",
        "|                        | `str.isdigit()`                    | Returns `True` if all characters are digits. |\n",
        "|                        | `str.isalnum()`                    | Returns `True` if all characters are alphanumeric. |\n",
        "|                        | `str.isspace()`                    | Returns `True` if all characters are whitespace. |\n",
        "| **Splitting & Joining**| `str.split(sep, maxsplit)`         | Splits the string into a list based on `sep`. |\n",
        "|                        | `str.join(iterable)`               | Joins elements of `iterable` into a string. |\n",
        "\n",
        "Note that the values returned by string methods vary significantly. Many return strings, but others return integers, Booleans, or even list types. It is important to know the details. Use `help` or [the Python documentation](https://docs.python.org/3/library/stdtypes.html#string-methods)."
      ]
    },
    {
      "cell_type": "code",
      "execution_count": null,
      "id": "59",
      "metadata": {
        "id": "59"
      },
      "outputs": [],
      "source": [
        "# this way works, but is discouraged\n",
        "str.upper(word)\n",
        "\n",
        "# this way is encouraged\n",
        "word.upper()"
      ]
    },
    {
      "cell_type": "markdown",
      "id": "60",
      "metadata": {
        "id": "60"
      },
      "source": [
        "## Glossary\n",
        "\n",
        "**sequence:**\n",
        " An ordered collection of values where each value is identified by an integer index.\n",
        "\n",
        "**character:**\n",
        "An element of a string, including letters, numbers, and symbols.\n",
        "\n",
        "**index:**\n",
        " An integer value used to select an item in a sequence, such as a character in a string. In Python indices start from `0`.\n",
        "\n",
        "**slice:**\n",
        " A part of a string specified by a range of indices.\n",
        "\n",
        "**empty string:**\n",
        "A string that contains no characters and has length `0`.\n",
        "\n",
        "**object:**\n",
        " Something a variable can refer to. An object has a type and a value.\n",
        "\n",
        "**immutable:**\n",
        "If the elements of an object cannot be changed, the object is immutable.\n",
        "\n",
        "**invocation:**\n",
        " An expression -- or part of an expression -- that calls a method."
      ]
    },
    {
      "cell_type": "markdown",
      "id": "61",
      "metadata": {
        "id": "61"
      },
      "source": [
        "---\n",
        "\n",
        "Auburn University / Industrial and Systems Engineering  \n",
        "INSY 3010 / Programming and Databases for ISE  \n",
        "© Copyright 2025, Danny J. O'Leary.  \n",
        "For licensing, attribution, and information: [GitHub INSY3010](https://github.com/olearydj/INSY3010)\n"
      ]
    }
  ],
  "metadata": {
    "celltoolbar": "Tags",
    "colab": {
      "provenance": []
    },
    "kernelspec": {
      "display_name": "Python 3 (ipykernel)",
      "language": "python",
      "name": "python3"
    },
    "language_info": {
      "codemirror_mode": {
        "name": "ipython",
        "version": 3
      },
      "file_extension": ".py",
      "mimetype": "text/x-python",
      "name": "python",
      "nbconvert_exporter": "python",
      "pygments_lexer": "ipython3",
      "version": "3.12.3"
    }
  },
  "nbformat": 4,
  "nbformat_minor": 5
}