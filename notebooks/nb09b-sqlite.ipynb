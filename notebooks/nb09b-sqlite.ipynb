{
 "cells": [
  {
   "cell_type": "markdown",
   "id": "0",
   "metadata": {
    "tags": []
   },
   "source": [
    "# SQL-Python Integration\n",
    "\n",
    "## Project Part 3 with SQL\n",
    "\n",
    "This is incomplete, but illustrates the power of SQL."
   ]
  },
  {
   "cell_type": "markdown",
   "id": "1",
   "metadata": {},
   "source": [
    "Run this first to get the required data files. Though you may not know the methods used, you should be able to follow the code and get a sense of what it does."
   ]
  },
  {
   "cell_type": "code",
   "execution_count": null,
   "id": "2",
   "metadata": {},
   "outputs": [],
   "source": [
    "from pathlib import Path\n",
    "from urllib.request import urlretrieve\n",
    "\n",
    "def download_if_missing(url, filename, data_dir = Path('data')):\n",
    "    \"\"\"\n",
    "    Download a file from URL if not present in local data directory.\n",
    "    \n",
    "    Args:\n",
    "        url: Source URL to download from\n",
    "        filename: Name to save file as locally\n",
    "        data_dir: Path to data directory (default: Path('data'))\n",
    "    \n",
    "    Returns:\n",
    "        Path: Path object pointing to the local file\n",
    "    \"\"\"\n",
    "\n",
    "    # make sure a data subdirectory exists\n",
    "    data_dir.mkdir(exist_ok=True)\n",
    "\n",
    "    # build a full Path objecct\n",
    "    filepath = data_dir / filename\n",
    "\n",
    "    if not filepath.exists():\n",
    "        # there is no file in the data directory called filename\n",
    "        print(f\"Downloading {filename} to {data_dir}/...\")\n",
    "        try:\n",
    "            urlretrieve(url, filepath)\n",
    "            print(\"Download complete!\")\n",
    "        except Exception as e:\n",
    "            print(f\"Error downloading {filename}: {e}\")\n",
    "    else:\n",
    "        print(f\"{filepath} exists, skipping download.\")\n",
    "\n",
    "    return filepath\n",
    "\n",
    "# define constants\n",
    "DATA_DIR = Path('data')\n",
    "BASE_URL = 'https://raw.githubusercontent.com/olearydj/INSY3010-Fall24/main/notebooks/data/'\n",
    "CSV_FILE = '5k-sales.csv'\n",
    "DB_FILE = '5k-sales.db'\n",
    "\n",
    "# Download CSV if needed\n",
    "csv_path = download_if_missing(BASE_URL + CSV_FILE, CSV_FILE, DATA_DIR)\n",
    "\n",
    "# Delete DB if exists\n",
    "db_path = DATA_DIR / DB_FILE\n",
    "db_path.unlink(missing_ok=True)\n"
   ]
  },
  {
   "cell_type": "markdown",
   "id": "3",
   "metadata": {
    "tags": []
   },
   "source": [
    "---\n",
    "Import libraries, including Pandas (alternative method for building a table)."
   ]
  },
  {
   "cell_type": "code",
   "execution_count": null,
   "id": "4",
   "metadata": {},
   "outputs": [],
   "source": [
    "# sqlite3 is included with python\n",
    "import sqlite3\n",
    "import os\n",
    "import pandas as pd"
   ]
  },
  {
   "cell_type": "markdown",
   "id": "5",
   "metadata": {},
   "source": [
    "---\n",
    "Create connection and cursor, build the table using **sqlite**. Then populate it with data using **Pandas** `read_csv` and `to_sql` methods."
   ]
  },
  {
   "cell_type": "code",
   "execution_count": null,
   "id": "6",
   "metadata": {},
   "outputs": [],
   "source": [
    "# create the connector and cursor\n",
    "con = sqlite3.connect(db_path)\n",
    "cur = con.cursor()\n",
    "\n",
    "# define the SQL statement to create the table\n",
    "SQL = (\n",
    "    \"CREATE TABLE sales(\"\n",
    "        \"id INTEGER PRIMARY KEY,\"\n",
    "        \"region TEXT,\"\n",
    "        \"country TEXT,\"\n",
    "        \"type TEXT,\"\n",
    "        \"channel TEXT,\"\n",
    "        \"priority TEXT,\"\n",
    "        \"odate DATE,\"\n",
    "        \"sdate DATE,\"\n",
    "        \"usold INTEGER,\"\n",
    "        \"uprice FLOAT,\"\n",
    "        \"ucost FLOAT)\"\n",
    ")\n",
    "\n",
    "# execute SQL to create the table\n",
    "cur.execute(SQL)\n",
    "\n",
    "# read the csv using Pandas\n",
    "data = pd.read_csv(csv_path)\n",
    "\n",
    "# inject the csv data into the sales table using connector\n",
    "# overwrite existing table and do not include Pandas indices\n",
    "data.to_sql('sales', con, if_exists='replace', index=False)"
   ]
  },
  {
   "cell_type": "markdown",
   "id": "7",
   "metadata": {},
   "source": [
    "Check the outcome by executing a simple query and fetching all the results."
   ]
  },
  {
   "cell_type": "code",
   "execution_count": null,
   "id": "8",
   "metadata": {
    "tags": []
   },
   "outputs": [],
   "source": [
    "# fetchall returns all lines of the result as a list of tuples\n",
    "cur.execute(\"SELECT * FROM sales LIMIT 1\").fetchall()"
   ]
  },
  {
   "cell_type": "markdown",
   "id": "9",
   "metadata": {},
   "source": [
    "---\n",
    "### Display rows of data...\n",
    "\n",
    "Not very helpful here as most of the work was in getting valid input and printing it nicely."
   ]
  },
  {
   "cell_type": "code",
   "execution_count": null,
   "id": "10",
   "metadata": {},
   "outputs": [],
   "source": [
    "res = cur.execute(\"SELECT * FROM sales LIMIT 5\")\n",
    "# iterate through res to get rows of result as tuples\n",
    "for row in res:\n",
    "    for cell in row[:2]:\n",
    "        print(cell, end='  ')\n",
    "    print()"
   ]
  },
  {
   "cell_type": "markdown",
   "id": "11",
   "metadata": {},
   "source": [
    "Double-check the column names. Stored in `res.description`."
   ]
  },
  {
   "cell_type": "code",
   "execution_count": null,
   "id": "12",
   "metadata": {},
   "outputs": [],
   "source": [
    "# re-using the previous results, inspecting description attribute\n",
    "print('Columns in sales table:')\n",
    "for col in res.description:\n",
    "    print(col[0])  # just first item in single element tuple"
   ]
  },
  {
   "cell_type": "markdown",
   "id": "13",
   "metadata": {},
   "source": [
    "---\n",
    "### List unique values in a column...\n",
    "\n",
    "```python\n",
    "def get_col_data(col):\n",
    "    '''returns selected column of sample data as list'''\n",
    "    return [row[col] for row in sample]\n",
    "\n",
    "def get_unique_vals(data):\n",
    "    '''returns a sorted list of the unique values in data'''\n",
    "    return sorted(list(set(data)))\n",
    "```\n",
    "\n",
    "Here we begin to see benefits of SQL."
   ]
  },
  {
   "cell_type": "code",
   "execution_count": null,
   "id": "14",
   "metadata": {},
   "outputs": [],
   "source": [
    "# demonstrate for unique values in Region\n",
    "res = cur.execute(\"SELECT DISTINCT Region from sales ORDER BY Region\")\n",
    "for region in res:\n",
    "    print(region[0])"
   ]
  },
  {
   "cell_type": "markdown",
   "id": "15",
   "metadata": {},
   "source": [
    "---\n",
    "### Calculate average units per order for selected item type...  \n",
    "\n",
    "```python\n",
    "units = 0\n",
    "num = 0\n",
    "for order in data:\n",
    "    if order[3] == item_name:\n",
    "        units += order[8]\n",
    "        num += 1\n",
    "avg_units = units / num\n",
    "print(f\"\\nThe average quantity for each {item_name} order is {avg_units:.0f} units.\")\n",
    "```\n",
    "\n",
    "SQL can achieve the same result with a simple query."
   ]
  },
  {
   "cell_type": "code",
   "execution_count": null,
   "id": "16",
   "metadata": {},
   "outputs": [],
   "source": [
    "# average cost by unit type\n",
    "SQL = \"SELECT Item_Type, AVG(Unit_Cost) FROM sales GROUP BY Item_Type\"\n",
    "res = cur.execute(SQL)\n",
    "for r in res:\n",
    "    # fancy f-strings\n",
    "    print(f\"{r[0]:17.17}$ {r[1]:>6.2f}\")"
   ]
  },
  {
   "cell_type": "markdown",
   "id": "17",
   "metadata": {},
   "source": [
    "---\n",
    "### Identify the most profitable order for each country in selected region...\n",
    "\n",
    "```python\n",
    "# build dictionary of most profitable orders for country in reg\n",
    "c_data = {}\n",
    "for row, order in enumerate(sample):\n",
    "    if order[1] == region:\n",
    "        country = order[2]\n",
    "        units = order[8]\n",
    "        u_price = order[9]\n",
    "        u_cost = order[10]\n",
    "        profit = units * (u_price - u_cost)\n",
    "        # for each country, store highest profit order and row num\n",
    "        if country in c_data:\n",
    "            if c_data[country][1] < profit:\n",
    "                c_data[country] = [row, profit]\n",
    "        else:\n",
    "            c_data[country] = [row, profit]\n",
    "\n",
    "print([col_names[0]] + col_names[2:5])\n",
    "for country, value in c_data.items():\n",
    "    row = sample[value[0]]\n",
    "    print([row[0]] + row[2:5])\n",
    "```\n",
    "\n",
    "It requires a sub-query in SQL, but still much easier."
   ]
  },
  {
   "cell_type": "code",
   "execution_count": null,
   "id": "18",
   "metadata": {},
   "outputs": [],
   "source": [
    "# use a nested query\n",
    "SQL = (\n",
    "    # 2 - select only the desired columns of that result\n",
    "    \"SELECT Order_ID, Country, Item_Type, Sales_Channel \"\n",
    "    \"FROM(\"\n",
    "        # 1 - get all the original columns plus max Profit for each country\n",
    "        \"SELECT *, MAX(Units_Sold * (Unit_Price - Unit_Cost)) AS Profit \"\n",
    "        \"FROM sales \"\n",
    "        \"WHERE Region = 'Asia' \"\n",
    "        \"GROUP BY Country\"\n",
    "    \")\"\n",
    ")\n",
    "\n",
    "cur.execute(SQL).fetchall()"
   ]
  },
  {
   "cell_type": "markdown",
   "id": "19",
   "metadata": {},
   "source": [
    "---\n",
    "Close the connection!"
   ]
  },
  {
   "cell_type": "code",
   "execution_count": null,
   "id": "20",
   "metadata": {},
   "outputs": [],
   "source": [
    "con.close()"
   ]
  }
 ],
 "metadata": {
  "kernelspec": {
   "display_name": "Python 3 (ipykernel)",
   "language": "python",
   "name": "python3"
  },
  "language_info": {
   "codemirror_mode": {
    "name": "ipython",
    "version": 3
   },
   "file_extension": ".py",
   "mimetype": "text/x-python",
   "name": "python",
   "nbconvert_exporter": "python",
   "pygments_lexer": "ipython3",
   "version": "3.12.3"
  }
 },
 "nbformat": 4,
 "nbformat_minor": 5
}
