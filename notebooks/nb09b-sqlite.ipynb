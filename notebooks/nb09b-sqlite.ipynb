{
 "cells": [
  {
   "cell_type": "markdown",
   "id": "0",
   "metadata": {
    "tags": []
   },
   "source": [
    "# SQL-Python Integration\n",
    "\n",
    "## Demonstrating Python vs SQL\n",
    "\n",
    "The following example illustrates the power of SQL for manipulating tabular data. It uses a table of synthetic sales data with 5000 rows and 11 columns. Various operations are demonstrated in order of increasing complexity. The Python and SQL solutions provided for each allow for direct comparison."
   ]
  },
  {
   "cell_type": "markdown",
   "id": "1",
   "metadata": {},
   "source": [
    "Run the following cell first to get the required data files. Though you may not know the methods used, you should, at this point, be able to follow the code and get a sense of what it does."
   ]
  },
  {
   "cell_type": "code",
   "execution_count": null,
   "id": "2",
   "metadata": {},
   "outputs": [],
   "source": [
    "from pathlib import Path\n",
    "from urllib.request import urlretrieve\n",
    "\n",
    "def download_if_missing(url, filename, data_dir = Path('data')):\n",
    "    \"\"\"\n",
    "    Download a file from URL if not present in local data directory.\n",
    "    \n",
    "    Args:\n",
    "        url: Source URL to download from\n",
    "        filename: Name to save file as locally\n",
    "        data_dir: Path to data directory (default: Path('data'))\n",
    "    \n",
    "    Returns:\n",
    "        Path: Path object pointing to the local file\n",
    "    \"\"\"\n",
    "\n",
    "    # make sure a data subdirectory exists\n",
    "    data_dir.mkdir(exist_ok=True)\n",
    "\n",
    "    # build a full Path objecct\n",
    "    filepath = data_dir / filename\n",
    "\n",
    "    if not filepath.exists():\n",
    "        # there is no file in the data directory called filename\n",
    "        print(f\"Downloading {filename} to {data_dir}/...\")\n",
    "        try:\n",
    "            urlretrieve(url, filepath)\n",
    "            print(\"Download complete!\")\n",
    "        except Exception as e:\n",
    "            print(f\"Error downloading {filename}: {e}\")\n",
    "    else:\n",
    "        print(f\"{filepath} exists, skipping download.\")\n",
    "\n",
    "    return filepath\n",
    "\n",
    "# define constants\n",
    "DATA_DIR = Path('data')\n",
    "BASE_URL = 'https://raw.githubusercontent.com/olearydj/INSY3010-Fall24/main/notebooks/data/'\n",
    "CSV_FILE = '5k-sales.csv'\n",
    "DB_FILE = '5k-sales.db'\n",
    "\n",
    "# Download CSV if needed\n",
    "csv_path = download_if_missing(BASE_URL + CSV_FILE, CSV_FILE, DATA_DIR)\n",
    "\n",
    "# Delete DB if exists\n",
    "db_path = DATA_DIR / DB_FILE\n",
    "db_path.unlink(missing_ok=True)\n"
   ]
  },
  {
   "cell_type": "markdown",
   "id": "3",
   "metadata": {
    "tags": []
   },
   "source": [
    "---\n",
    "Import libraries, including Pandas (alternative method for building a table)."
   ]
  },
  {
   "cell_type": "code",
   "execution_count": null,
   "id": "4",
   "metadata": {},
   "outputs": [],
   "source": [
    "# sqlite3 is included with python\n",
    "import sqlite3\n",
    "import os\n",
    "import pandas as pd"
   ]
  },
  {
   "cell_type": "markdown",
   "id": "5",
   "metadata": {},
   "source": [
    "---\n",
    "Create connection and cursor, build the table using **sqlite**. Then populate it with data using **Pandas** `read_csv` and `to_sql` methods."
   ]
  },
  {
   "cell_type": "code",
   "execution_count": null,
   "id": "6",
   "metadata": {},
   "outputs": [],
   "source": [
    "# create the connector and cursor\n",
    "con = sqlite3.connect(db_path)\n",
    "cur = con.cursor()\n",
    "\n",
    "# read the csv and create a SQLite table using the Pandas library\n",
    "data = pd.read_csv(csv_path)\n",
    "data.to_sql('sales', con, if_exists='replace', index=False)\n",
    "\n",
    "# commit the changes\n",
    "con.commit()"
   ]
  },
  {
   "cell_type": "markdown",
   "id": "7",
   "metadata": {},
   "source": [
    "Check the outcome by executing a simple query and fetching all the results."
   ]
  },
  {
   "cell_type": "code",
   "execution_count": null,
   "id": "8",
   "metadata": {
    "tags": []
   },
   "outputs": [],
   "source": [
    "# fetchall returns all lines of the result as a list of tuples\n",
    "cur.execute(\"SELECT * FROM sales LIMIT 1\").fetchall()"
   ]
  },
  {
   "cell_type": "markdown",
   "id": "9",
   "metadata": {},
   "source": [
    "---\n",
    "### Display rows of data...\n",
    "\n",
    "Not very helpful here as most of the work was in getting valid input and printing it nicely."
   ]
  },
  {
   "cell_type": "code",
   "execution_count": null,
   "id": "10",
   "metadata": {},
   "outputs": [],
   "source": [
    "res = cur.execute(\"SELECT * FROM sales LIMIT 5\")\n",
    "# iterate through res to get rows of result as tuples\n",
    "for row in res:\n",
    "    for cell in row[:2]:\n",
    "        print(cell, end='  ')\n",
    "    print()"
   ]
  },
  {
   "cell_type": "markdown",
   "id": "11",
   "metadata": {},
   "source": [
    "Double-check the column names. Stored in `res.description`."
   ]
  },
  {
   "cell_type": "code",
   "execution_count": null,
   "id": "12",
   "metadata": {},
   "outputs": [],
   "source": [
    "# re-using the previous results, inspecting description attribute\n",
    "print('Columns in sales table:')\n",
    "for col in res.description:\n",
    "    print(col[0])  # just first item in single element tuple"
   ]
  },
  {
   "cell_type": "markdown",
   "id": "13",
   "metadata": {},
   "source": [
    "---\n",
    "### List unique values in a column...\n",
    "\n",
    "Here are some Python functions to achieve the desired result. This assumes the data is represented as a list of lists, with the column names in the first row.\n",
    "\n",
    "```python\n",
    "def get_col_number(data, col_name):\n",
    "    '''Return the index number of the named column in row 0'''\n",
    "    col_num = 0\n",
    "    for name in data[0]:  # first row has column names\n",
    "        if name == col_name:\n",
    "            return col_num\n",
    "        col_num += 1\n",
    "    return None  # not found\n",
    "\n",
    "def get_col_data(data, col_num):\n",
    "    '''returns selected column of sample data as list'''\n",
    "    col_data = []\n",
    "    for row in data[1:]:\n",
    "        col_data.append(row[col_num])\n",
    "    return col_data\n",
    "\n",
    "def get_unique_vals(data):\n",
    "    '''returns a sorted list of the unique values in data'''\n",
    "    return sorted(list(set(data)))\n",
    "\n",
    "# example usage\n",
    "# get the unique values in the NAME column of YOUR_DATA\n",
    "column_num = get_col_number(YOUR_DATA, NAME)\n",
    "column_data = get_col_data(YOUR_DATA, column_num)\n",
    "unique_vals = get_unique_vals(column_data)\n",
    "```\n",
    "\n",
    "Here we see the benefits of SQL, which can accomplish the same with a single line query:"
   ]
  },
  {
   "cell_type": "code",
   "execution_count": null,
   "id": "14",
   "metadata": {},
   "outputs": [],
   "source": [
    "# demonstrate for unique values in Region\n",
    "res = cur.execute(\"SELECT DISTINCT Region from sales ORDER BY Region\")\n",
    "for region in res:\n",
    "    print(region[0])"
   ]
  },
  {
   "cell_type": "markdown",
   "id": "15",
   "metadata": {},
   "source": [
    "---\n",
    "### Calculate average units per order for selected item type...  \n",
    "\n",
    "Here is one way to achieve this in Python:\n",
    "\n",
    "```python\n",
    "units = 0\n",
    "num = 0\n",
    "for order in data:\n",
    "    if order[3] == item_name:\n",
    "        units += order[8]\n",
    "        num += 1\n",
    "avg_units = units / num\n",
    "print(f\"\\nThe average quantity for each {item_name} order is {avg_units:.0f} units.\")\n",
    "```\n",
    "\n",
    "SQL can do the same with a relatively simple query."
   ]
  },
  {
   "cell_type": "code",
   "execution_count": null,
   "id": "16",
   "metadata": {},
   "outputs": [],
   "source": [
    "# average cost by unit type\n",
    "SQL = \"SELECT Item_Type, AVG(Unit_Cost) FROM sales GROUP BY Item_Type\"\n",
    "res = cur.execute(SQL)\n",
    "for r in res:\n",
    "    # fancy f-strings\n",
    "    print(f\"{r[0]:17.17}$ {r[1]:>6.2f}\")"
   ]
  },
  {
   "cell_type": "markdown",
   "id": "17",
   "metadata": {},
   "source": [
    "---\n",
    "### Identify the most profitable order for each country in selected region...\n",
    "\n",
    "Things are getting more complicated in Python now. Note this function uses one defined above to get the index for necessary columns by name.\n",
    "\n",
    "```python\n",
    "def find_most_profitable_orders(data, target_region):\n",
    "    \"\"\"Find the most profitable order for each country in a region\n",
    "    \n",
    "    Args:\n",
    "        data: list of lists with column headers in row 0\n",
    "        target_region: region to analyze\n",
    "    Returns:\n",
    "        dict: country -> [order_id, profit] mappings\n",
    "    \"\"\"\n",
    "    # Get column positions from headers\n",
    "    region_col = get_col_number(data, \"Region\")\n",
    "    country_col = get_col_number(data, \"Country\")\n",
    "    units_col = get_col_number(data, \"Units_Sold\")\n",
    "    price_col = get_col_number(data, \"Unit_Price\")\n",
    "    cost_col = get_col_number(data, \"Unit_Cost\")\n",
    "    order_col = get_col_number(data, \"Order_ID\")\n",
    "    \n",
    "    # Dictionary to store results\n",
    "    country_profits = {}\n",
    "    \n",
    "    # Check each row (skip headers)\n",
    "    for row in data[1:]:\n",
    "        # Only look at rows for our target region\n",
    "        if row[region_col] == target_region:\n",
    "            country = row[country_col]\n",
    "            # Calculate profit for this order\n",
    "            profit = row[units_col] * (row[price_col] - row[cost_col])\n",
    "            order_id = row[order_col]\n",
    "            \n",
    "            # If first order for country or higher profit, store it\n",
    "            if country not in country_profits:\n",
    "                country_profits[country] = [order_id, profit]\n",
    "            elif profit > country_profits[country][1]:\n",
    "                country_profits[country] = [order_id, profit]\n",
    "    \n",
    "    return country_profits\n",
    "\n",
    "# Example usage:\n",
    "region = \"Asia\"\n",
    "results = find_most_profitable_orders(data, region)\n",
    "print(\"Most profitable orders by country:\")\n",
    "for country, (order_id, profit) in results.items():\n",
    "    print(f\"{country}: Order {order_id}, Profit ${profit:,.2f}\")\n",
    "```\n",
    "\n",
    "In SQL, this requires a sub-query to select the desired columns of the output. Still the main query is much more straightforward."
   ]
  },
  {
   "cell_type": "code",
   "execution_count": null,
   "id": "18",
   "metadata": {},
   "outputs": [],
   "source": [
    "# use a nested query\n",
    "SQL = (\n",
    "    # 2 - select only the desired columns of that result\n",
    "    \"SELECT Order_ID, Country, Item_Type, Sales_Channel \"\n",
    "    \"FROM(\"\n",
    "        # 1 - get all the original columns plus max Profit for each country\n",
    "        \"SELECT *, MAX(Units_Sold * (Unit_Price - Unit_Cost)) AS Profit \"\n",
    "        \"FROM sales \"\n",
    "        \"WHERE Region = 'Asia' \"\n",
    "        \"GROUP BY Country\"\n",
    "    \")\"\n",
    ")\n",
    "\n",
    "cur.execute(SQL).fetchall()"
   ]
  },
  {
   "cell_type": "markdown",
   "id": "19",
   "metadata": {},
   "source": [
    "---\n",
    "Close the connection!"
   ]
  },
  {
   "cell_type": "code",
   "execution_count": null,
   "id": "20",
   "metadata": {},
   "outputs": [],
   "source": [
    "con.close()"
   ]
  },
  {
   "cell_type": "markdown",
   "id": "21",
   "metadata": {},
   "source": [
    "---\n",
    "\n",
    "Auburn University / Industrial and Systems Engineering  \n",
    "INSY 3010 / Programming and Databases for ISE / Fall 2024  \n",
    "© Copyright 2024, Danny J. O'Leary.  \n",
    "For licensing, attribution, and information: [GitHub INSY3010-Fall24](https://github.com/olearydj/INSY3010-Fall24)\n"
   ]
  }
 ],
 "metadata": {
  "kernelspec": {
   "display_name": "Python 3 (ipykernel)",
   "language": "python",
   "name": "python3"
  },
  "language_info": {
   "codemirror_mode": {
    "name": "ipython",
    "version": 3
   },
   "file_extension": ".py",
   "mimetype": "text/x-python",
   "name": "python",
   "nbconvert_exporter": "python",
   "pygments_lexer": "ipython3",
   "version": "3.12.3"
  }
 },
 "nbformat": 4,
 "nbformat_minor": 5
}
