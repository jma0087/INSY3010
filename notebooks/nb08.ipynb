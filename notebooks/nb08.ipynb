{
 "cells": [
  {
   "cell_type": "markdown",
   "id": "0",
   "metadata": {
    "tags": [
     "remove-cell"
    ]
   },
   "source": [
    "# Welcome\n",
    "\n",
    "This material is from portions of Chapters 10 and 11 of [*Think Python*, 3rd edition](https://greenteapress.com/wp/think-python-3rd-edition), by Allen B. Downey. I have adapted it for this class.\n"
   ]
  },
  {
   "cell_type": "markdown",
   "id": "1",
   "metadata": {},
   "source": [
    "## Tuples - Immutable Lists\n",
    "\n",
    "Tuples (commonly pronouned \"too-ple\" in the context of programming) are another commonly used object type that is included in base Python. Like lists, they are ordered heterogeneous sequences. Unlike lists, they are immutable."
   ]
  },
  {
   "cell_type": "markdown",
   "id": "2",
   "metadata": {},
   "source": [
    "### Creating Tuples\n",
    "\n",
    "To create a tuple, you *can* write a comma-separated list of values."
   ]
  },
  {
   "cell_type": "code",
   "execution_count": null,
   "id": "3",
   "metadata": {},
   "outputs": [],
   "source": [
    "t = 'a', 'u', 'b', 'i', 'e'\n",
    "type(t)"
   ]
  },
  {
   "cell_type": "markdown",
   "id": "4",
   "metadata": {},
   "source": [
    "Although it is *not always necessary*, it is common to enclose tuples in parentheses."
   ]
  },
  {
   "cell_type": "code",
   "execution_count": null,
   "id": "5",
   "metadata": {},
   "outputs": [],
   "source": [
    "t = ('a', 'u', 'b', 'i', 'e')\n",
    "type(t)"
   ]
  },
  {
   "cell_type": "markdown",
   "id": "6",
   "metadata": {},
   "source": [
    "Python will always *display* tuples in parentheses, regardless of the manner in which they are created."
   ]
  },
  {
   "cell_type": "code",
   "execution_count": null,
   "id": "7",
   "metadata": {},
   "outputs": [],
   "source": [
    "t = 'a', 'u', 'b', 'i', 'e'\n",
    "print(t)"
   ]
  },
  {
   "cell_type": "markdown",
   "id": "8",
   "metadata": {},
   "source": [
    "To create a tuple with a single element, you *must* include a final comma."
   ]
  },
  {
   "cell_type": "code",
   "execution_count": null,
   "id": "9",
   "metadata": {},
   "outputs": [],
   "source": [
    "t1 = 'p',\n",
    "type(t1)"
   ]
  },
  {
   "cell_type": "markdown",
   "id": "10",
   "metadata": {},
   "source": [
    "Another way to create a tuple is the built-in function `tuple`. If the argument is a sequence, the result is a tuple with its elements."
   ]
  },
  {
   "cell_type": "code",
   "execution_count": null,
   "id": "11",
   "metadata": {},
   "outputs": [],
   "source": [
    "t = tuple('aubie')\n",
    "print(t)  # ('a', 'u', 'b', 'i', 'e')"
   ]
  },
  {
   "cell_type": "markdown",
   "id": "12",
   "metadata": {},
   "source": [
    "If required, an empty tuple can be created with either empty parentheses `()` or `tuple()`."
   ]
  },
  {
   "cell_type": "code",
   "execution_count": null,
   "id": "13",
   "metadata": {},
   "outputs": [],
   "source": [
    "t0_p = ()\n",
    "print(len(t0_p), type(t0_p))\n",
    "\n",
    "t0_f = tuple()\n",
    "print(len(t0_f), type(t0_f))"
   ]
  },
  {
   "cell_type": "markdown",
   "id": "14",
   "metadata": {},
   "source": [
    "Note from [the Python documentation](https://docs.python.org/3/library/stdtypes.html#tuples):\n",
    "\n",
    "*...it is actually the comma which makes a tuple, not the parentheses. The parentheses are optional, **except in the empty tuple case, or when they are needed to avoid syntactic ambiguity**. For example, `f(a, b, c)` is a function call with three arguments, while `f((a, b, c))` is a function call with a 3-tuple as the sole argument.*"
   ]
  },
  {
   "cell_type": "code",
   "execution_count": null,
   "id": "15",
   "metadata": {},
   "outputs": [],
   "source": [
    "len(1, 2, 3) # TypeError, interpreted as three arguments"
   ]
  },
  {
   "cell_type": "code",
   "execution_count": null,
   "id": "16",
   "metadata": {},
   "outputs": [],
   "source": [
    "len((1, 2, 3)) # use inner parens to \"avoid syntactic ambiguity\""
   ]
  },
  {
   "cell_type": "markdown",
   "id": "17",
   "metadata": {},
   "source": [
    "### Common Operations\n",
    "\n",
    "Since tuples are sequences, all relevant operations work as they do for lists.\n",
    "Since tuples are immutable the original object is unchanged."
   ]
  },
  {
   "cell_type": "code",
   "execution_count": null,
   "id": "18",
   "metadata": {},
   "outputs": [],
   "source": [
    "# indexing returns the object at that index\n",
    "print(t[0])  # 'a'\n",
    "\n",
    "# slicing returns a new tuple\n",
    "print(t[::-1])  # ('e', 'i', 'b', 'u', 'a')\n",
    "\n",
    "# concatenation and repetition work as expected\n",
    "print(tuple(\"go \") + t)  # ('g', 'o', ' ', 'a', 'u', 'b', 'i', 'e')\n",
    "print(t[1:2] * 3)        # ('u', 'u', 'u')\n",
    "\n",
    "# comparison and membership\n",
    "print(t1 < t)       # False\n",
    "print('a' in t)     # True\n",
    "print('a' not in t) # False\n",
    "\n",
    "# len, min, max\n",
    "print(len(t))  # 5\n",
    "print(min(t))  # 'a'\n",
    "print(max(t))  # 'u'"
   ]
  },
  {
   "cell_type": "markdown",
   "id": "19",
   "metadata": {},
   "source": [
    "### Important Methods\n",
    "\n",
    "Because they are immutable, tuples only support a limited set of methods."
   ]
  },
  {
   "cell_type": "code",
   "execution_count": null,
   "id": "20",
   "metadata": {},
   "outputs": [],
   "source": [
    "t2 = tuple(\"terminator\")\n",
    "\n",
    "# count returns the number of instances of \"t\" in t2\n",
    "print(t2.count(\"t\"))  # 2\n",
    "\n",
    "# index returns the index number of the first instance of \"i\" in t2\n",
    "print(t2.index(\"i\"))  # 4"
   ]
  },
  {
   "cell_type": "markdown",
   "id": "21",
   "metadata": {},
   "source": [
    "Conversely, since tuples are immutable, they can not be modified by item assignment."
   ]
  },
  {
   "cell_type": "code",
   "execution_count": null,
   "id": "22",
   "metadata": {
    "tags": [
     "raises-exception"
    ]
   },
   "outputs": [],
   "source": [
    "t2[0] = 'T'  # TypeError"
   ]
  },
  {
   "cell_type": "markdown",
   "id": "23",
   "metadata": {},
   "source": [
    "Also, tuples don't have any of the methods that modify lists, like `append` and `remove`."
   ]
  },
  {
   "cell_type": "code",
   "execution_count": null,
   "id": "24",
   "metadata": {
    "tags": [
     "raises-exception"
    ]
   },
   "outputs": [],
   "source": [
    "t.remove('l')  # AttributeError"
   ]
  },
  {
   "cell_type": "markdown",
   "id": "25",
   "metadata": {},
   "source": [
    "An *attribute* is a variable or method associated with an object -- this error message means that tuples don't have a method named `remove`."
   ]
  },
  {
   "cell_type": "markdown",
   "id": "26",
   "metadata": {},
   "source": [
    "### Exercise - Return, Assign, and Unpack a Tuple\n",
    "\n",
    "Write a function, `rectangle_properties` that takes a length and width and calculates the area, perimeter, and aspect ratio (the length divided by width). Return all three values as a tuple in the same order. Assign them to a variable called `result`. Use indexing and an f-string to print the result as shown below. Test your results.\n",
    "\n",
    "Using a length of 2 and width of 3, your output should look like this:\n",
    "\n",
    "```text\n",
    "Area: 6.0, Perimeter: 10.0, Aspect Ratio: 0.67\n",
    "```"
   ]
  },
  {
   "cell_type": "code",
   "execution_count": null,
   "id": "27",
   "metadata": {},
   "outputs": [],
   "source": [
    "# code here...\n"
   ]
  },
  {
   "cell_type": "code",
   "execution_count": null,
   "id": "28",
   "metadata": {},
   "outputs": [],
   "source": [
    "# this code block should run without errors\n",
    "assert rectangle_properties(2, 3) == (6, 10, 0.6666666666666666)\n",
    "assert rectangle_properties(4, 2) == (8, 12, 2.0)"
   ]
  },
  {
   "cell_type": "markdown",
   "id": "29",
   "metadata": {
    "jp-MarkdownHeadingCollapsed": true
   },
   "source": [
    "#### Solution / Discussion"
   ]
  },
  {
   "cell_type": "markdown",
   "id": "30",
   "metadata": {},
   "source": [
    "```python\n",
    "def rectangle_properties(length, width):\n",
    "    area = length * width\n",
    "    perimeter = (2 * length) + (2 * width)\n",
    "    aspect = length / width\n",
    "    return (area, perimeter, aspect)\n",
    "\n",
    "result = rectangle_properties(2,3)\n",
    "a = result[0]\n",
    "p = result[1]\n",
    "r = result[2]\n",
    "print(f\"Area: {a:0.1f}, Perimeter: {p:0.1f}, Aspect Ratio: {r:0.2f}\")\n",
    "```\n",
    "\n",
    "Note that Python allows you to directly assign the components of a sequence as follows:\n",
    "\n",
    "```python\n",
    "a, p, r = rectangle_properties(2,3)\n",
    "```\n",
    "\n",
    "This concise method of assignment is commonly used and is called *unpacking*. Each element of the returned value is assigned to the comma separated list of variable names, in the corresponding order. For more information see the section below entitled *Sequence Unpacking*."
   ]
  },
  {
   "cell_type": "markdown",
   "id": "31",
   "metadata": {},
   "source": [
    "## More About Types\n",
    "\n",
    "So far we've used Python's `int`, `float`, `string`, `list`, and `tuple` types.\n",
    "We've also covered a few special case types like `bool` (for `True` and `False` values) and `NoneType` (for `None` values).\n",
    "Together, they are foundational to Python programming. Recall that:\n",
    "\n",
    "- Everything in Python is an object\n",
    "- Each object has a type, value, and identity\n",
    "- The type of an object determines its capabilities\n",
    "\n",
    "We've seen that `ints` and `floats` can use the `+`, `-`, `*`, and `/` operators, with the expected results. `strings` can also use `+` and `*`, for concatentation and repetition, but not `-` or `/`."
   ]
  },
  {
   "cell_type": "code",
   "execution_count": null,
   "id": "32",
   "metadata": {},
   "outputs": [],
   "source": [
    "print(42 + 3.14)  # int plus float\n",
    "print(42 / 3.14)  # int divided by float\n",
    "\n",
    "phrase = \"repeat\" + \" this\"  # string concatenation\n",
    "print(phrase * 4)  # string repetition\n",
    "print(phrase / 2)  # error, divide operator not supported for string type"
   ]
  },
  {
   "cell_type": "markdown",
   "id": "33",
   "metadata": {},
   "source": [
    "This is one example of the claim that \"the type of an object determines its capabilities.\" Another example is the differing methods and functions supported by each type.\n",
    "\n",
    "We've seen that the `len` function works on all sequences, but not numerics, and the `append` method works on lists, but not strings or tuples."
   ]
  },
  {
   "cell_type": "code",
   "execution_count": null,
   "id": "34",
   "metadata": {},
   "outputs": [],
   "source": [
    "# len works on lists, tuples, and strings\n",
    "print(len([1, 2, 3]))           # 3\n",
    "print(len(('1', 'b', '3.0')))   # 3; note - inner parentheses required\n",
    "print(len(\"how long is this\"))  # 16\n",
    "\n",
    "# but not numerics\n",
    "print(len(42))  # TypeError!"
   ]
  },
  {
   "cell_type": "code",
   "execution_count": null,
   "id": "35",
   "metadata": {},
   "outputs": [],
   "source": [
    "l = [\"lists\", \"are\", \"...\"]\n",
    "l.append(\"mutable\")\n",
    "print(l)\n",
    "\n",
    "s = \"strings are ... \"\n",
    "s.append(\"immutable\")  # AttributeError"
   ]
  },
  {
   "cell_type": "markdown",
   "id": "36",
   "metadata": {},
   "source": [
    "All these rules may seem arbitrary and disconnected. Let's try to make some sense of them.\n",
    "\n",
    "The differences depend on the nature of the types in question.\n",
    "Characteristics like ordered / unordered, mutable / immutable, and homogenous / heterogenous are fundamental differentiators between types. Learning how those characteristics are associated with each object type makes it easier to reason out what they can do and how they work. It is also essential to being able to debug the most common errors made by those learning Python.\n",
    "\n",
    "The following table summarizes the key characteristics of the sequence types we've covered:\n",
    "\n",
    "| Type        | Ordered | Mutable | Heterogeneous | Notes                                        |\n",
    "|:------------|:--------|:--------|:--------------|:---------------------------------------------|\n",
    "| List        | Yes     | Yes     | Yes           | Common for collections, often homogenous     |\n",
    "| Tuple       | Yes     | No      | Yes           | Used for fixed-size records or return values |\n",
    "| String      | Yes     | No      | No            | Immutable sequence of characters             |\n",
    "\n",
    "Ordered object types can be indexed, sliced, and have a length. These capabilities are not relevant to numerics, which only represent a single value."
   ]
  },
  {
   "cell_type": "code",
   "execution_count": null,
   "id": "37",
   "metadata": {},
   "outputs": [],
   "source": [
    "len(42) # TypeError"
   ]
  },
  {
   "cell_type": "markdown",
   "id": "38",
   "metadata": {},
   "source": [
    "The elements of mutable sequences can be changed after creation, which allows for in-place modification (aka mutation) by index assignment or applicable methods."
   ]
  },
  {
   "cell_type": "code",
   "execution_count": null,
   "id": "39",
   "metadata": {},
   "outputs": [],
   "source": [
    "l[-1] = \"useful\"  # index assignment\n",
    "print(l)\n",
    "\n",
    "l.insert(3, \"very\")  # insert method modifies in place (mutates)\n",
    "print(l)"
   ]
  },
  {
   "cell_type": "markdown",
   "id": "40",
   "metadata": {},
   "source": [
    "Immutable sequences cannot be modified after creation, so all related manipulations create new strings and reassign them."
   ]
  },
  {
   "cell_type": "code",
   "execution_count": null,
   "id": "41",
   "metadata": {},
   "outputs": [],
   "source": [
    "# concatenation creates a new string object\n",
    "before = id(s)  # get the unique ID of s before the modification\n",
    "s = s + \"useful\"\n",
    "print(s)\n",
    "\n",
    "after = id(s)\n",
    "print(before == after)  # False - new object was created"
   ]
  },
  {
   "cell_type": "code",
   "execution_count": null,
   "id": "42",
   "metadata": {},
   "outputs": [],
   "source": [
    "# string methods create new objects\n",
    "s.upper()  # string methods do not change in place (immutable)\n",
    "print(s)\n",
    "\n",
    "s = s.upper()  # must be reassigned\n",
    "print(s)"
   ]
  },
  {
   "cell_type": "markdown",
   "id": "43",
   "metadata": {},
   "source": [
    "## Nested Lists and Tuples\n",
    "\n",
    "Much of the world's data is found in tables. The tabular format, featuring rows, columns, and cells, is most commonly represented in Python using *nested* lists and/or tuples. That is, lists or tuples that contain lists or tuples *as elements*."
   ]
  },
  {
   "cell_type": "code",
   "execution_count": null,
   "id": "44",
   "metadata": {},
   "outputs": [],
   "source": [
    "list_of_lists = [[1, 2, 3], [4, 5, 6], [7, 8, 9]]\n",
    "tuple_of_tuples = ((1, 2, 3), (4, 5, 6), (7, 8, 9))\n",
    "list_of_tuples = [(1, 2, 3), (4, 5, 6), (7, 8, 9)]\n",
    "tuple_of_lists = ([1, 2, 3], [4, 5, 6], [7, 8, 9])"
   ]
  },
  {
   "cell_type": "markdown",
   "id": "45",
   "metadata": {},
   "source": [
    "While these examples are all 3x3 with numeric values, the length of both inner and outer sequences and the element types are both arbitrary. This section will focus on nested lists, which are the most common, but all variations may be useful. If using nested tuples instead, keep their rules in mind.\n",
    "\n",
    "These are considered two-dimensional data structures, where inner sequences are like rows and the cells within each row correspond to a column. This is easier to see if formatted differently:"
   ]
  },
  {
   "cell_type": "code",
   "execution_count": null,
   "id": "46",
   "metadata": {},
   "outputs": [],
   "source": [
    "list_of_lists = [\n",
    "    [1, 2, 3],\n",
    "    [4, 5, 6],\n",
    "    [7, 8, 9]\n",
    "]"
   ]
  },
  {
   "cell_type": "markdown",
   "id": "47",
   "metadata": {},
   "source": [
    "This style makes it easy to interpret `list_of_lists` as a 3x3 table. Since Python ignores the whitespace inside parentheses / brackets it is acceptable syntax.\n",
    "\n",
    "This concept can be extended to any depth. For example, a list of tables would extend the previous `list_of_lists` by putting that table in a list. Furthermore, any combination of lists and tuples can be used. While this offers tremendous flexibility, it can easily become overly complex. In practice, nesting is kept relatively simple and other methods are used to manage more complicated data."
   ]
  },
  {
   "cell_type": "markdown",
   "id": "48",
   "metadata": {},
   "source": [
    "### Accessing Nested Sequences\n",
    "\n",
    "The contents of a nested list or tuple are accessed through indexing, as usual.\n",
    "\n",
    "To find an element of an inner list in `list_of_lists`, start by getting the desired list."
   ]
  },
  {
   "cell_type": "code",
   "execution_count": null,
   "id": "49",
   "metadata": {},
   "outputs": [],
   "source": [
    "e2 = list_of_lists[1]\n",
    "print(e2)"
   ]
  },
  {
   "cell_type": "markdown",
   "id": "50",
   "metadata": {},
   "source": [
    "Then index the result to get the desired element."
   ]
  },
  {
   "cell_type": "code",
   "execution_count": null,
   "id": "51",
   "metadata": {},
   "outputs": [],
   "source": [
    "e2_2 = e2[1]\n",
    "print(e2_2)"
   ]
  },
  {
   "cell_type": "markdown",
   "id": "52",
   "metadata": {},
   "source": [
    "This is no different than indexing the element of a string in a list, yet somehow feels more complex."
   ]
  },
  {
   "cell_type": "code",
   "execution_count": null,
   "id": "53",
   "metadata": {},
   "outputs": [],
   "source": [
    "list_of_strings = [\"list\", \"of\", \"strings\"]\n",
    "last_word = list_of_strings[-1]\n",
    "last_letter = last_word[-1]\n",
    "print(last_letter)"
   ]
  },
  {
   "cell_type": "markdown",
   "id": "54",
   "metadata": {},
   "source": [
    "These steps can be combined as a sequence of indexing operations to avoid the intermediate step."
   ]
  },
  {
   "cell_type": "code",
   "execution_count": null,
   "id": "55",
   "metadata": {},
   "outputs": [],
   "source": [
    "e1_1 = list_of_lists[0][0]\n",
    "print(e1_1)"
   ]
  },
  {
   "cell_type": "markdown",
   "id": "56",
   "metadata": {},
   "source": [
    "Don't be intimidated by this syntax. It may be helpful to think of the indexing operator (`[]`) in the same way as a mathematical operator, with left to right order of operations.\n",
    "\n",
    "The expression `list_of_lists[0][0]` simply takes the object referenced by the variable, finds its first element, and then finds the first element of that result."
   ]
  },
  {
   "cell_type": "markdown",
   "id": "57",
   "metadata": {},
   "source": [
    "### Modifying Nested Lists\n",
    "\n",
    "When working with nested lists, you can use the same indexing syntax to directly assign values to the elements of inner lists."
   ]
  },
  {
   "cell_type": "code",
   "execution_count": null,
   "id": "58",
   "metadata": {},
   "outputs": [],
   "source": [
    "list_of_lists[2][2] = 42\n",
    "print(list_of_lists)"
   ]
  },
  {
   "cell_type": "markdown",
   "id": "59",
   "metadata": {},
   "source": [
    "Since `list_of_lists[2]` is a list, any operations suitable to that type are allowed."
   ]
  },
  {
   "cell_type": "code",
   "execution_count": null,
   "id": "60",
   "metadata": {},
   "outputs": [],
   "source": [
    "list_of_lists[2].append(3.14)\n",
    "print(list_of_lists)"
   ]
  },
  {
   "cell_type": "markdown",
   "id": "61",
   "metadata": {},
   "source": [
    "These approaches do not apply too the other sequence types that we've discussed, as both strings and tuples are immutable."
   ]
  },
  {
   "cell_type": "markdown",
   "id": "62",
   "metadata": {},
   "source": [
    "### Working with Nested Sequences\n",
    "\n",
    "When working with nested sequences it is common to use nested loops. In the same way that you can use an `if` statement in the body of another, you can use `for` or `while` inside other loops. Nesting loops allows us to iterate through the elements of one sequence inside another. The syntax is the same, but the concept is best explored with an example.\n",
    "\n",
    "Imagine you have stored the *state* (current configuration, as described by a set of variables) of a tic-tac-toe board in a list of lists:"
   ]
  },
  {
   "cell_type": "code",
   "execution_count": null,
   "id": "63",
   "metadata": {},
   "outputs": [],
   "source": [
    "board = [\n",
    "    ['X', 'O', 'X'],\n",
    "    ['O', 'X', 'O'],\n",
    "    ['O', 'X', 'X']\n",
    "]"
   ]
  },
  {
   "cell_type": "markdown",
   "id": "64",
   "metadata": {},
   "source": [
    "Each turn in the game you need to display that for each player. To do that, you can use nested loops to *traverse* the list and display each element:"
   ]
  },
  {
   "cell_type": "code",
   "execution_count": null,
   "id": "65",
   "metadata": {},
   "outputs": [],
   "source": [
    "def show_board(board):\n",
    "    '''display the board for the player'''\n",
    "    for row in board:\n",
    "        for cell in row:\n",
    "            print(cell, end=' ')\n",
    "        print()  # Move to the next line after each row"
   ]
  },
  {
   "cell_type": "code",
   "execution_count": null,
   "id": "66",
   "metadata": {},
   "outputs": [],
   "source": [
    "show_board(board)"
   ]
  },
  {
   "cell_type": "markdown",
   "id": "67",
   "metadata": {},
   "source": [
    "In this code:\n",
    "\n",
    "1. The outer loop `for row in board` iterates over each row in the board.\n",
    "2. For each row, the inner loop `for cell in row` iterates over each cell in that row.\n",
    "3. We print each cell, followed by a space (`end=' '`).\n",
    "4. After each row is printed, we use `print()` to move to the next line.\n",
    "\n",
    "We've used a function here to help illustrate their benefit. The game may need to show the board at different times, so this avoids code duplication. Also, once the function works, we might never have to read it again. Instead, we simply see `show_board` and understand what is happening, without having to recall the details of how the function itself works.\n",
    "\n",
    "This example demonstrates how nested loops naturally match the structure of nested sequences. The outer loop handles the \"rows\" (the outer list), while the inner loop handles the \"columns\" (the inner lists).\n",
    "\n",
    "After learning to traverse a nested list, a natural next step is to perform operations on its elements. Let's look at a simple yet powerful example: multiplying a matrix by a scalar. To accomplish this, we need to traverse the nested list and modify each element, multiplying it by the scalar value.\n",
    "\n",
    "The following code traverses each row and column in the same manner as before to build a new result matrix."
   ]
  },
  {
   "cell_type": "code",
   "execution_count": null,
   "id": "68",
   "metadata": {},
   "outputs": [],
   "source": [
    "def scalar_multiply(matrix, scalar):\n",
    "    result = []\n",
    "    for row in matrix:\n",
    "        new_row = []\n",
    "        for element in row:\n",
    "            new_row.append(element * scalar)\n",
    "        result.append(new_row)\n",
    "    return result"
   ]
  },
  {
   "cell_type": "code",
   "execution_count": null,
   "id": "69",
   "metadata": {},
   "outputs": [],
   "source": [
    "matrix = [\n",
    "    [1, 2, 3],\n",
    "    [4, 5, 6],\n",
    "    [7, 8, 9]\n",
    "]\n",
    "\n",
    "# Multiply the matrix by 2\n",
    "scaled_matrix = scalar_multiply(matrix, 2)\n",
    "\n",
    "print(scaled_matrix)"
   ]
  },
  {
   "cell_type": "markdown",
   "id": "70",
   "metadata": {},
   "source": [
    "There are, of course, other applications for nested loops, but manipulating nested sequences is a very common and clear use case."
   ]
  },
  {
   "cell_type": "markdown",
   "id": "71",
   "metadata": {},
   "source": [
    "### Exercise - Build a List of Lists\n",
    "\n",
    "Write a function `make_table` that takes a width and height (both integers) and builds a nested list of the same dimensions. Width denotes the number of columns and height the number of rows. Fill the cells left to right, top to bottom, starting at 1 and incrementing by 1 for each."
   ]
  },
  {
   "cell_type": "code",
   "execution_count": null,
   "id": "72",
   "metadata": {},
   "outputs": [],
   "source": [
    "# use a nested list\n"
   ]
  },
  {
   "cell_type": "markdown",
   "id": "73",
   "metadata": {},
   "source": [
    "#### Solution / Discussion"
   ]
  },
  {
   "cell_type": "markdown",
   "id": "74",
   "metadata": {},
   "source": [
    "```python\n",
    "def make_table(w, h):\n",
    "  '''\n",
    "  make a list of lists with w columns and h rows\n",
    "  the value of each cell starts at 1 and\n",
    "  increases by 1 in col, row order\n",
    "  '''\n",
    "\n",
    "  # initalize the main list and cell value\n",
    "  table = []\n",
    "  val = 1\n",
    "\n",
    "  # build h rows\n",
    "  for r in range(h):\n",
    "    row = []\n",
    "    # each with w columns\n",
    "    for c in range(w):\n",
    "      # add val to row\n",
    "      row.append(val)\n",
    "      val += 1\n",
    "    # add row to table\n",
    "    table.append(row)\n",
    "\n",
    "  return table\n",
    "\n",
    "\n",
    "result = make_table(3, 3)\n",
    "print(result)\n",
    "```"
   ]
  },
  {
   "attachments": {},
   "cell_type": "markdown",
   "id": "75",
   "metadata": {},
   "source": [
    "## Sets\n",
    "\n",
    "We've talked a lot about collections of ordered elements called sequences. This begs the question - do unordered collections exist in Python? Yes! They are called mappings. To introduce this concept we'll first briefly cover the `set` object type before moving on to its big brother, the dictionary object class.\n",
    "\n",
    "Sets are unordered containers of **unique**, **immutable** elements. Duplicate and/or mutable elements are not allowed. Sets are themselves mutable and heterogeneous.\n",
    "\n",
    "Sets are a special purpose object type. They offer operators and methods that mimic the mathematical operations from [set theory](https://en.wikipedia.org/wiki/Set_theory). If that doesn't ring a bell, think [Venn diagrams](https://en.wikipedia.org/wiki/Venn_diagram), union, intersection, difference, and the like.\n",
    "\n",
    "For our purposes they are most useful conceptually as an introduction to unordered collections and practically for removing duplicates from a sequence (aka deduplication). For more details, see Real Python's [Sets in Python](https://realpython.com/python-sets/) article.\n",
    "\n",
    "The `set` function can be used to create a set object from any sequence, like a tuple as shown here:"
   ]
  },
  {
   "cell_type": "code",
   "execution_count": null,
   "id": "76",
   "metadata": {},
   "outputs": [],
   "source": [
    "vals = 'apple', 'banana', 'cherry'\n",
    "set(vals)"
   ]
  },
  {
   "attachments": {},
   "cell_type": "markdown",
   "id": "77",
   "metadata": {},
   "source": [
    "Like lists use square brackets, a set can also be created with curley brackets. Just as with lists, the brackets must contain a comma separated list of the desired elements:"
   ]
  },
  {
   "cell_type": "code",
   "execution_count": null,
   "id": "78",
   "metadata": {},
   "outputs": [],
   "source": [
    "{'apple', 'banana', 'cherry'}"
   ]
  },
  {
   "cell_type": "markdown",
   "id": "79",
   "metadata": {},
   "source": [
    "If a sequence is used instead, this method will result in a single element set containing the original sequence, which is probably not the intended effect:"
   ]
  },
  {
   "cell_type": "code",
   "execution_count": null,
   "id": "80",
   "metadata": {},
   "outputs": [],
   "source": [
    "{vals}"
   ]
  },
  {
   "cell_type": "markdown",
   "id": "81",
   "metadata": {},
   "source": [
    "Python always displays a set surrounded by curley brackets, except for empty sets, which can **only** be created with `set`, and are displayed as `set()`:"
   ]
  },
  {
   "cell_type": "code",
   "execution_count": null,
   "id": "82",
   "metadata": {},
   "outputs": [],
   "source": [
    "# create an empty set\n",
    "set()"
   ]
  },
  {
   "cell_type": "markdown",
   "id": "83",
   "metadata": {},
   "source": [
    "As we'll soon see, empty curley brackets (`{}`) denote an empty object of another type.\n",
    "\n",
    "So far, we've created sets of unique values. When creating or modifying sets, any duplicated values are automatically eliminated:"
   ]
  },
  {
   "cell_type": "code",
   "execution_count": null,
   "id": "84",
   "metadata": {},
   "outputs": [],
   "source": [
    "uniques = set('banana')\n",
    "print(uniques)"
   ]
  },
  {
   "cell_type": "code",
   "execution_count": null,
   "id": "85",
   "metadata": {},
   "outputs": [],
   "source": [
    "uniques.add('a')\n",
    "print(uniques)"
   ]
  },
  {
   "cell_type": "markdown",
   "id": "86",
   "metadata": {},
   "source": [
    "The resulting set consists only of the unique elements in the sequence and the order is **not** preserved. It is easy to imagine situations where this might be valuable, if only for deduplication.\n",
    "\n",
    "Here we demonstrate removing duplicates from a list by converting it to a set and back:"
   ]
  },
  {
   "cell_type": "code",
   "execution_count": null,
   "id": "87",
   "metadata": {},
   "outputs": [],
   "source": [
    "letters = list('banana')\n",
    "unique_letters_set = set('banana')\n",
    "unique_letters_list = list(unique_letters_set)\n",
    "print(letters, unique_letters_set, unique_letters_list, sep='\\n')"
   ]
  },
  {
   "cell_type": "markdown",
   "id": "88",
   "metadata": {},
   "source": [
    "This method can be condensed into just `list(set(seq))`, where `seq` is any object of sequence type."
   ]
  },
  {
   "cell_type": "markdown",
   "id": "89",
   "metadata": {},
   "source": [
    "### Exercise - Check for Duplicates\n",
    "\n",
    "Use what you've learned about sets to write a function, `has_duplicates`, that takes a sequence and returns `True` if it contains duplicate elements, or `False` if not.\n",
    "\n",
    "Then write a function, `test_sequence` that takes a sequence and uses `has_duplicates` to test it. For the tests to pass, `test_sequence` must **return** the results as shown below, not print them.\n",
    "\n",
    "For the test value 'banana', `test_sequence` should return:\n",
    "\n",
    "```text\n",
    "The sequence 'banana' has duplicates.\n",
    "```\n",
    "\n",
    "For the test value `[1, 2, 3]`, `test_sequence` should return:\n",
    "\n",
    "```text\n",
    "The sequence '[1, 2, 3]' does not have duplicates.\n",
    "```"
   ]
  },
  {
   "cell_type": "code",
   "execution_count": null,
   "id": "90",
   "metadata": {},
   "outputs": [],
   "source": [
    "# first write has_duplicates\n",
    "# can you do it in 3 lines or less?\n",
    "\n",
    "\n",
    "# then write test_sequence using has_duplicates\n"
   ]
  },
  {
   "cell_type": "markdown",
   "id": "91",
   "metadata": {},
   "source": [
    "After writing the function definitions above, the following tests should pass."
   ]
  },
  {
   "cell_type": "code",
   "execution_count": null,
   "id": "92",
   "metadata": {},
   "outputs": [],
   "source": [
    "assert test_sequence('banana') == \"The sequence 'banana' has duplicates.\"\n",
    "assert test_sequence([1, 2, 3]) == \"The sequence '[1, 2, 3]' does not have duplicates.\""
   ]
  },
  {
   "cell_type": "markdown",
   "id": "93",
   "metadata": {},
   "source": [
    "#### Solution / Discussion"
   ]
  },
  {
   "cell_type": "markdown",
   "id": "94",
   "metadata": {},
   "source": [
    "```python\n",
    "def has_duplicates(seq):\n",
    "    '''compare the length of the deduplicated and original sequence'''\n",
    "    return len(set(seq)) != len(seq)\n",
    "\n",
    "def test_sequence(seq):\n",
    "    '''evaluate the result of has_duplicates and return a message'''\n",
    "    if has_duplicates(seq):\n",
    "        return f\"The sequence '{seq}' has duplicates.\"\n",
    "    else:\n",
    "        return f\"The sequence '{seq}' does not have duplicates.\"\n",
    "\n",
    "# print the results\n",
    "print(test_sequence('banana'))\n",
    "print(test_sequence([1, 2, 3]))\n",
    "```"
   ]
  },
  {
   "cell_type": "markdown",
   "id": "95",
   "metadata": {},
   "source": [
    "There are two things worth discussing in this solution.\n",
    "\n",
    "First, `has_duplicates` directly returns the `bool` result of the inequality comparison. The name of the function suggests it will return `True` or `False`. This approach is also seen in Python methods like `isalpha`, the string method that answers the question \"does the string contain only alphabetic characters (i.e., a-z)?\" with a `bool` that signifies yes or no.\n",
    "\n",
    "Second, the comparison in `test_sequence` directly evaluates the value returned by `has_duplicates` with the statement `if has_duplicates(seq)`. It is not necessary to compare this return value with `True` or `False`, i.e. `if has_duplicates(seq) == True`.\n",
    "\n",
    "These stylistic decisions are in line with Python best practices, but are not required. They are noted here for clarity."
   ]
  },
  {
   "cell_type": "markdown",
   "id": "96",
   "metadata": {},
   "source": [
    "## Dictionaries\n"
   ]
  },
  {
   "cell_type": "markdown",
   "id": "97",
   "metadata": {},
   "source": [
    "## Best Practices"
   ]
  },
  {
   "cell_type": "markdown",
   "id": "98",
   "metadata": {},
   "source": [
    "### Tuple or List?\n",
    "\n",
    "If tuples are essentially immutable lists, why bother? The mutability of lists makes them more flexible, as evidenced by the wealth of available methods. Why use a less capable object type?\n",
    "\n",
    "In fact, the simplicity of tuples can be an advantage. Their immutability prevents unintended changes, which is a common source of bugs.\n",
    "\n",
    "Practically speaking, tuples are commonly used to represent a fixed collection of related values, like coordinates `(x, y)`. In many cases, the related values are of different types, and the structure / order of the values is important. For example, student data might be represented as `(name, id, grades)`, where `name` is a string, `id` is an integer, and `grades` is a sequence (list or tuple) of floating point values."
   ]
  },
  {
   "cell_type": "code",
   "execution_count": null,
   "id": "99",
   "metadata": {},
   "outputs": [],
   "source": [
    "student = (\"Aubie\", 8675309, (95.8, 100.0, 91.1))"
   ]
  },
  {
   "attachments": {},
   "cell_type": "markdown",
   "id": "100",
   "metadata": {},
   "source": [
    "This kind of data structure is sometimes called a *record*. Because it is meant to represent a single \"entity\" or \"item\" with multiple attributes, it is important that it remains intact. The immutability and heterogeneity of tuples align well with this."
   ]
  },
  {
   "cell_type": "markdown",
   "id": "101",
   "metadata": {},
   "source": [
    "Lists, on the other hand, are commonly used for sequences of homogeneous data, where the order of the values itself does not carry important information about the object. This usage aligns with lists being mutable, allowing for easy addition, removal, or modification of elements."
   ]
  },
  {
   "cell_type": "code",
   "execution_count": null,
   "id": "102",
   "metadata": {},
   "outputs": [],
   "source": [
    "fruits = ['apple', 'banana', 'mango', 'broccoli', 'strawberry']\n",
    "fruits.remove('broccoli')\n",
    "print(fruits)"
   ]
  },
  {
   "cell_type": "markdown",
   "id": "103",
   "metadata": {},
   "source": [
    "In summary, lists in Python are generally used when you need to collect data that will change or grow dynamically. This leverages their mutability and assumes order-independence. Tuples are typically used for fixed-size collections of heterogeneous data, where order must be preserved and dynamic resizing is undesireable.\n",
    "\n",
    "These conventions are better taken as general guidance than a strict rule. Heterogenous lists and homogenous tuples both have their places, but the recommendations above reflect *idiomatic* Python. Idiomatic is a term used to describe methods that align with the design and philosophy of the language; they are \"the way it should be done\".\n",
    "\n",
    "To learn more about the design and philosophy of Python, see [The Zen of Python](https://en.wikipedia.org/wiki/Zen_of_Python)."
   ]
  },
  {
   "cell_type": "markdown",
   "id": "104",
   "metadata": {},
   "source": [
    "### Prefer Tuples for Multiple Return Values\n",
    "\n",
    "As we discussed in the previous notebook, a function can only return one object. To return more than one value, use a container object type. While we previously demonstrated this with a list, it is much more common in Python to use tuples for this purpose.\n",
    "\n",
    "Revisiting the example we used before, but using a tuple return value:"
   ]
  },
  {
   "cell_type": "code",
   "execution_count": null,
   "id": "105",
   "metadata": {},
   "outputs": [],
   "source": [
    "def divide_with_remainder(dividend, divisor):\n",
    "    quotient = dividend // divisor\n",
    "    remainder = dividend % divisor\n",
    "    return (quotient, remainder)  # return both values in a tuple"
   ]
  },
  {
   "cell_type": "code",
   "execution_count": null,
   "id": "106",
   "metadata": {},
   "outputs": [],
   "source": [
    "result = divide_with_remainder(17, 5)\n",
    "print(result)  # (3, 2)"
   ]
  },
  {
   "cell_type": "markdown",
   "id": "107",
   "metadata": {},
   "source": [
    "This recommendation follows the best practice of using tuples as immutable records. As with any recommendation, depending on the nature of the function, other types may be better suited."
   ]
  },
  {
   "cell_type": "markdown",
   "id": "108",
   "metadata": {},
   "source": [
    "### Sequence Unpacking\n"
   ]
  },
  {
   "cell_type": "markdown",
   "id": "109",
   "metadata": {},
   "source": [
    "used in combination with returning a tuple\n",
    "\n",
    "Here is an example of a function that returns a tuple."
   ]
  },
  {
   "cell_type": "code",
   "execution_count": null,
   "id": "110",
   "metadata": {},
   "outputs": [],
   "source": [
    "def min_max(t):\n",
    "    return min(t), max(t)"
   ]
  },
  {
   "cell_type": "markdown",
   "id": "111",
   "metadata": {},
   "source": [
    "`max` and `min` are built-in functions that find the largest and smallest elements of a sequence. \n",
    "`min_max` computes both and returns a tuple of two values."
   ]
  },
  {
   "cell_type": "markdown",
   "id": "112",
   "metadata": {},
   "source": [
    "We can assign the results to variables like this:"
   ]
  },
  {
   "cell_type": "code",
   "execution_count": null,
   "id": "113",
   "metadata": {},
   "outputs": [],
   "source": [
    "low, high = min_max([2, 4, 1, 3])\n",
    "print(low, high)"
   ]
  },
  {
   "cell_type": "markdown",
   "id": "114",
   "metadata": {},
   "source": [
    "## Common Gotchas\n",
    "\n",
    "### Mutation and Assignment Rarely Mix\n",
    "\n",
    "There are two ways to change a value in Python: in-place modification (mutation) and assignment. When working with mutable object types, mixing the two approaches is often a source of woe for newcomers."
   ]
  },
  {
   "cell_type": "code",
   "execution_count": null,
   "id": "115",
   "metadata": {},
   "outputs": [],
   "source": [
    "l = [\"this\", \"is\", \"...\"]\n",
    "\n",
    "# don't combine mutation and and assignment\n",
    "l = l.append(\"tricky!\")\n",
    "print(l)  # None!"
   ]
  },
  {
   "cell_type": "markdown",
   "id": "116",
   "metadata": {},
   "source": [
    "Methods are just functions associated with particular object types. Those that use in-place modification rarely have a separate result, so most, including `append` return the default `None`.\n",
    "\n",
    "The only cure for this is to know if the type is mutable and how the method you are using works. Immutable object types can only be changed through reassignment. For mutable types, the `pop` method is one of the few that both mutate and return a value - it returns a value that it removes."
   ]
  },
  {
   "cell_type": "markdown",
   "id": "117",
   "metadata": {},
   "source": [
    "### Mutation and Aliasing\n",
    "\n",
    "### Mutable Default Parameters (nb07?)\n"
   ]
  },
  {
   "cell_type": "markdown",
   "id": "118",
   "metadata": {},
   "source": [
    "## Debugging\n",
    "\n",
    "## Glossary\n",
    "\n",
    "## Problems\n",
    "\n",
    "### Problem 1\n",
    "\n",
    "flatten a list\n",
    "check tic-tac-toe board for winner?\n",
    "modify `scalar_multiply` to perform multiplication in-place (modify the original matrix instead of creating a new one) - why might you use one approach over the other?\n",
    "refactor `show_board` to print a nicely aligned numeric matrix; use join, f-string formatting, default argument?\n"
   ]
  },
  {
   "cell_type": "markdown",
   "id": "119",
   "metadata": {},
   "source": [
    "---\n",
    "\n",
    "Auburn University / Industrial and Systems Engineering  \n",
    "INSY 3010 / Programming and Databases for ISE / Fall 2024  \n",
    "© Copyright 2024, Danny J. O'Leary.  \n",
    "For licensing, attribution, and information: [GitHub INSY3010-Fall24](https://github.com/olearydj/INSY3010-Fall24)\n"
   ]
  }
 ],
 "metadata": {
  "celltoolbar": "Tags",
  "kernelspec": {
   "display_name": "Python 3 (ipykernel)",
   "language": "python",
   "name": "python3"
  },
  "language_info": {
   "codemirror_mode": {
    "name": "ipython",
    "version": 3
   },
   "file_extension": ".py",
   "mimetype": "text/x-python",
   "name": "python",
   "nbconvert_exporter": "python",
   "pygments_lexer": "ipython3",
   "version": "3.12.3"
  }
 },
 "nbformat": 4,
 "nbformat_minor": 5
}
