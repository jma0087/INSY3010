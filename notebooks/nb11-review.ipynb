{
 "cells": [
  {
   "cell_type": "markdown",
   "id": "0",
   "metadata": {
    "tags": [
     "remove-cell"
    ]
   },
   "source": [
    "# Welcome\n",
    "\n",
    "This is a review of the major Python concepts covered in this class. It is divided into a series of topic areas, with representative problems in for each.\n",
    "\n",
    "Notes:\n",
    "\n",
    "- The instructions \"write code\" and \"write a function\" are intentionally different. The latter requires you submit your code in the form of a function, where the former does not. When instructed to \"write code\" do not use a function."
   ]
  },
  {
   "cell_type": "markdown",
   "id": "1",
   "metadata": {},
   "source": [
    "## Exam Info\n",
    "\n",
    "- Wednesday, Dec 11th, 8-10am\n",
    "- In this classroom\n",
    "- Accom scheduled with Testing Center\n",
    "  - Schedule open by Friday\n",
    "  - Can take Wed-Fri\n",
    "- Allowed one full page - front and back - of personal notes\n",
    "- Additional scratch provided\n",
    "- Content\n",
    "  - Mostly Python code\n",
    "  - Some MC / Short answer\n",
    "  - Includes some questions related to the project\n",
    "\n",
    "\n",
    "Bring notes from test 2 and 3 on Thursday\n",
    "\n",
    "Provide list of methods?"
   ]
  },
  {
   "cell_type": "markdown",
   "id": "2",
   "metadata": {},
   "source": [
    "## String Processing and I/O\n",
    "\n",
    "Covering: input/output, type conversion, string methods (split/join), f-strings\n",
    "\n",
    "Problems:\n",
    "\n",
    "- Write code that gets first/last name and ID number, formats them as \"lastname, firstname (ID)\" with proper capitalization\n",
    "- Write code that gets a sentence from user, prints each word capitalized on a separate line with its length\n",
    "- Write code that gets three strings and prints them in alphabetical order with proper capitalization"
   ]
  },
  {
   "cell_type": "code",
   "execution_count": null,
   "id": "3",
   "metadata": {},
   "outputs": [],
   "source": [
    "# number 1\n",
    "# get a single string\n",
    "# split the string into parts - list of strings\n",
    "# assemble a new string using f-string and methods"
   ]
  },
  {
   "cell_type": "code",
   "execution_count": null,
   "id": "4",
   "metadata": {},
   "outputs": [],
   "source": [
    "# number 2\n",
    "# get sentence\n",
    "# split the sentence into words\n",
    "# loop thru the words\n",
    "    # calculate length of word\n",
    "    # print word and length"
   ]
  },
  {
   "cell_type": "code",
   "execution_count": null,
   "id": "5",
   "metadata": {},
   "outputs": [],
   "source": [
    "# number 3\n",
    "# get three separate strings (3 x inputs)\n",
    "s1 = input()\n",
    "s2 = input()\n",
    "s3 = input()\n",
    "\n",
    "# make a list of the strings\n",
    "string_list = [s1, s2, s3]\n",
    "\n",
    "# sort the list using sort method, returns none, in-place modification\n",
    "string_list.sort()\n",
    "\n",
    "# or use sorted function, which returns the sorted list\n",
    "# string_list = sorted(string_list)\n",
    "\n",
    "# print the parts in order using indexing\n",
    "print(string_list[0].title())\n",
    "print(string_list[1].title())\n",
    "print(string_list[2].title())"
   ]
  },
  {
   "cell_type": "markdown",
   "id": "6",
   "metadata": {},
   "source": [
    "## List Operations and Control Flow\n",
    "\n",
    "\n",
    "Covering: list basics and if/elif/else branching\n",
    "\n",
    "Problems:\n",
    "\n",
    "- Write a function that takes a list of numbers and returns a tuple containing counts of positive, negative, and zero values\n",
    "- Write a function that takes a list of scores and returns a tuple with the highest score and a list of indices where it appears\n",
    "- Write a function that takes a list of numbers and returns a tuple containing the first and last elements that are above the list's average"
   ]
  },
  {
   "cell_type": "code",
   "execution_count": null,
   "id": "7",
   "metadata": {},
   "outputs": [],
   "source": [
    "# number 1\n",
    "def f1(numbers):\n",
    "    # initialize counters\n",
    "    # loop thru numbers\n",
    "    # test pos / neg / zero\n",
    "    # increment counters accordlingly\n",
    "    return num_p, num_n, num_z"
   ]
  },
  {
   "cell_type": "code",
   "execution_count": null,
   "id": "8",
   "metadata": {},
   "outputs": [],
   "source": [
    "# number 2\n",
    "# define function that takes list of scores\n",
    "def f2(scores):\n",
    "    # initialize highest with lowest possible value\n",
    "    highest = 0\n",
    "    # loop thru scores\n",
    "    for score in scores:\n",
    "        # update highest\n",
    "        if score > highest:\n",
    "            highest = score\n",
    "            \n",
    "    # create list of indicies where lowest is found - in loop or with list method?\n",
    "    idxs = []\n",
    "    idx = 0\n",
    "    for score in scores:\n",
    "        if score == highest:\n",
    "            idxs.append(idx)\n",
    "        idx += 1\n",
    "\n",
    "    # return highest, list of indicies\n",
    "    return highest, idxs"
   ]
  },
  {
   "cell_type": "code",
   "execution_count": null,
   "id": "9",
   "metadata": {},
   "outputs": [],
   "source": [
    "test = [10, 8, 10, 7, 10]\n",
    "f2(test)"
   ]
  },
  {
   "cell_type": "code",
   "execution_count": null,
   "id": "10",
   "metadata": {},
   "outputs": [],
   "source": [
    "# number 3\n",
    "# define function takes numbers\n",
    "# calculate average\n",
    "# loop thru numbers to find first and last\n",
    "# return first, last above average"
   ]
  },
  {
   "cell_type": "markdown",
   "id": "11",
   "metadata": {},
   "source": [
    "## Basic Looping with for\n",
    "\n",
    "\n",
    "Covering: for loop syntax, range(), basic sequence iteration\n",
    "\n",
    "Problems:\n",
    "\n",
    "- Write a function that takes a number n and returns sum of all multiples of 3 less than n\n",
    "- Write code that prints a right triangle pattern of n rows using asterisks\n",
    "- Write a function that takes a string and returns sum of all digit characters it contains"
   ]
  },
  {
   "cell_type": "markdown",
   "id": "12",
   "metadata": {},
   "source": [
    "## Input Processing with while\n",
    "\n",
    "\n",
    "Covering: while loop usage patterns\n",
    "\n",
    "Problems:\n",
    "\n",
    "- Write code that gets numbers until \"done\", prints running average after each input\n",
    "- Write a function that plays a guessing game: takes a target number, gets guesses, returns number of guesses (using provided get_random_guess function)\n",
    "- Write code that gets words until \"done\" and prints the longest word entered"
   ]
  },
  {
   "cell_type": "code",
   "execution_count": null,
   "id": "13",
   "metadata": {},
   "outputs": [],
   "source": [
    "# problem 1\n",
    "# use while true and break when exit condition is met\n",
    "# start the while loop\n",
    "    # get an input\n",
    "    # test input\n",
    "        # exit loop if done\n",
    "    # update average\n",
    "    # print the average"
   ]
  },
  {
   "cell_type": "code",
   "execution_count": null,
   "id": "14",
   "metadata": {},
   "outputs": [],
   "source": [
    "# problem 2\n",
    "\n",
    "# given:\n",
    "import random as r\n",
    "def get_random_guess():\n",
    "    return r.randint(1, 100)\n",
    "\n",
    "def gg(target):\n",
    "    count = 1\n",
    "    while True:\n",
    "        guess = get_random_guess()\n",
    "        if guess == target:\n",
    "            return count\n",
    "        count += 1"
   ]
  },
  {
   "cell_type": "code",
   "execution_count": null,
   "id": "15",
   "metadata": {},
   "outputs": [],
   "source": [
    "gg(67)"
   ]
  },
  {
   "cell_type": "code",
   "execution_count": null,
   "id": "16",
   "metadata": {},
   "outputs": [],
   "source": [
    "longest = ''\n",
    "\n",
    "while True:\n",
    "    word = input()\n",
    "    if word.lower() == \"done\":\n",
    "        break\n",
    "    if len(word) > len(longest):\n",
    "        longest = word\n",
    "\n",
    "print(longest)"
   ]
  },
  {
   "cell_type": "markdown",
   "id": "17",
   "metadata": {},
   "source": [
    "## Dictionary Operations\n",
    "\n",
    "\n",
    "Covering: creating / using dictionaries\n",
    "\n",
    "\n",
    "Problems:\n",
    "\n",
    "- Write a function that takes a string and returns dict mapping each character to its count\n",
    "- Write a function that takes a sentence and returns dict mapping word lengths to count of words of that length\n",
    "- Write a function that takes two lists of equal length and returns a dict using first list as keys and second as values\n"
   ]
  },
  {
   "cell_type": "markdown",
   "id": "18",
   "metadata": {},
   "source": [
    "## Nested List Processing\n",
    "\n",
    "\n",
    "Covering: list manipulation methods with nested structures (e.g. list of lists)\n",
    "\n",
    "Problems:\n",
    "\n",
    "- Write a function that takes a list of lists and returns the column sums\n",
    "- Write a function that takes a list of lists and returns the row averages\n",
    "- Write a function that takes a list of lists and returns True if all rows have the same sum"
   ]
  },
  {
   "cell_type": "markdown",
   "id": "19",
   "metadata": {},
   "source": [
    "---\n",
    "\n",
    "Auburn University / Industrial and Systems Engineering  \n",
    "INSY 3010 / Programming and Databases for ISE / Fall 2024  \n",
    "© Copyright 2024, Danny J. O'Leary.  \n",
    "For licensing, attribution, and information: [GitHub INSY3010-Fall24](https://github.com/olearydj/INSY3010-Fall24)\n"
   ]
  }
 ],
 "metadata": {
  "kernelspec": {
   "display_name": "Python 3 (ipykernel)",
   "language": "python",
   "name": "python3"
  },
  "language_info": {
   "codemirror_mode": {
    "name": "ipython",
    "version": 3
   },
   "file_extension": ".py",
   "mimetype": "text/x-python",
   "name": "python",
   "nbconvert_exporter": "python",
   "pygments_lexer": "ipython3",
   "version": "3.12.3"
  }
 },
 "nbformat": 4,
 "nbformat_minor": 5
}
