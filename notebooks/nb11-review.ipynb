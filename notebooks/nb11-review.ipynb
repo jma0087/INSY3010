{
 "cells": [
  {
   "cell_type": "markdown",
   "id": "0",
   "metadata": {
    "tags": [
     "remove-cell"
    ]
   },
   "source": [
    "# Welcome\n",
    "\n",
    "This is a review of the major Python concepts covered in this class. It is divided into a series of topic areas, with representative problems in for each.\n",
    "\n",
    "Notes:\n",
    "\n",
    "- The instructions \"write code\" and \"write a function\" are intentionally different. The latter requires you submit your code in the form of a function, where the former does not. When instructed to \"write code\" do not use a function."
   ]
  },
  {
   "cell_type": "markdown",
   "id": "1",
   "metadata": {},
   "source": [
    "## Exam Info\n",
    "\n",
    "- Wednesday, Dec 11th, 8-10am\n",
    "- In this classroom\n",
    "- Accom scheduled with Testing Center\n",
    "  - Schedule open by Friday\n",
    "  - Can take Wed-Fri\n",
    "- Allowed one full page - front and back - of personal notes\n",
    "- Additional scratch provided\n",
    "- Content\n",
    "  - Mostly writing Python code in code grade\n",
    "  - Some MC / Short answer (no writing code) related to:\n",
    "      - Concepts (comprehensive)\n",
    "      - The project\n",
    "      - Python File Handing and Python-SQL Integration\n",
    "\n",
    "If you can work the problems below (or variants of them) on your own, understand the syntax, and can debug issues that come up in the process, you are ready.\n"
   ]
  },
  {
   "cell_type": "markdown",
   "id": "2",
   "metadata": {},
   "source": [
    "## String Processing and I/O\n",
    "\n",
    "Covering: input/output, type conversion, string methods (split/join), f-strings\n",
    "\n",
    "Problems:\n",
    "\n",
    "- Write code that gets first/last name and ID number, formats them as \"lastname, firstname (ID)\" with proper capitalization\n",
    "- Write code that gets a sentence from user, prints each word capitalized on a separate line with its length\n",
    "- Write code that gets three strings and prints them in alphabetical order with proper capitalization"
   ]
  },
  {
   "cell_type": "code",
   "execution_count": null,
   "id": "3",
   "metadata": {},
   "outputs": [],
   "source": [
    "# number 1\n",
    "# get a single string\n",
    "# split the string into parts - list of strings\n",
    "# assemble a new string using f-string and methods"
   ]
  },
  {
   "cell_type": "code",
   "execution_count": null,
   "id": "4",
   "metadata": {},
   "outputs": [],
   "source": [
    "# number 2\n",
    "# get sentence\n",
    "# split the sentence into words\n",
    "# loop thru the words\n",
    "    # calculate length of word\n",
    "    # print word and length"
   ]
  },
  {
   "cell_type": "code",
   "execution_count": null,
   "id": "5",
   "metadata": {},
   "outputs": [],
   "source": [
    "# number 3\n",
    "# get three separate strings (3 x inputs)\n",
    "s1 = input()\n",
    "s2 = input()\n",
    "s3 = input()\n",
    "\n",
    "# make a list of the strings\n",
    "string_list = [s1, s2, s3]\n",
    "\n",
    "# sort the list using sort method, returns none, in-place modification\n",
    "string_list.sort()\n",
    "\n",
    "# or use sorted function, which returns the sorted list\n",
    "# string_list = sorted(string_list)\n",
    "\n",
    "# print the parts in order using indexing\n",
    "print(string_list[0].title())\n",
    "print(string_list[1].title())\n",
    "print(string_list[2].title())"
   ]
  },
  {
   "cell_type": "markdown",
   "id": "6",
   "metadata": {},
   "source": [
    "## List Operations and Control Flow\n",
    "\n",
    "\n",
    "Covering: list basics and if/elif/else branching\n",
    "\n",
    "Problems:\n",
    "\n",
    "- Write a function that takes a list of numbers and returns a tuple containing counts of positive, negative, and zero values\n",
    "- Write a function that takes a list of scores and returns a tuple with the highest score and a list of indices where it appears\n",
    "- Write a function that takes a list of numbers and returns a tuple containing the first and last elements that are above the list's average"
   ]
  },
  {
   "cell_type": "code",
   "execution_count": null,
   "id": "7",
   "metadata": {},
   "outputs": [],
   "source": [
    "# number 1\n",
    "def f1(numbers):\n",
    "    # initialize counters\n",
    "    # loop thru numbers\n",
    "    # test pos / neg / zero\n",
    "    # increment counters accordlingly\n",
    "    return num_p, num_n, num_z"
   ]
  },
  {
   "cell_type": "code",
   "execution_count": null,
   "id": "8",
   "metadata": {},
   "outputs": [],
   "source": [
    "# number 2\n",
    "# define function that takes list of scores\n",
    "def f2(scores):\n",
    "    # initialize highest with lowest possible value\n",
    "    highest = 0\n",
    "    # loop thru scores\n",
    "    for score in scores:\n",
    "        # update highest\n",
    "        if score > highest:\n",
    "            highest = score\n",
    "            \n",
    "    # create list of indicies where lowest is found - in loop or with list method?\n",
    "    idxs = []\n",
    "    idx = 0\n",
    "    for score in scores:\n",
    "        if score == highest:\n",
    "            idxs.append(idx)\n",
    "        idx += 1\n",
    "\n",
    "    # return highest, list of indicies\n",
    "    return highest, idxs"
   ]
  },
  {
   "cell_type": "code",
   "execution_count": null,
   "id": "9",
   "metadata": {},
   "outputs": [],
   "source": [
    "test = [10, 8, 10, 7, 10]\n",
    "f2(test)"
   ]
  },
  {
   "cell_type": "code",
   "execution_count": null,
   "id": "10",
   "metadata": {},
   "outputs": [],
   "source": [
    "# number 3\n",
    "# define function takes numbers\n",
    "# calculate average\n",
    "# loop thru numbers to find first and last\n",
    "# return first, last above average"
   ]
  },
  {
   "cell_type": "markdown",
   "id": "11",
   "metadata": {},
   "source": [
    "## Basic Looping with for\n",
    "\n",
    "\n",
    "Covering: for loop syntax, range(), basic sequence iteration\n",
    "\n",
    "Problems:\n",
    "\n",
    "- Write a function that takes a number n and returns sum of all multiples of 3 less than n\n",
    "- Write code that prints a right triangle pattern of n rows using asterisks\n",
    "- Write a function that takes a string and returns sum of all digit characters it contains"
   ]
  },
  {
   "cell_type": "markdown",
   "id": "12",
   "metadata": {},
   "source": [
    "## Input Processing with while\n",
    "\n",
    "\n",
    "Covering: while loop usage patterns\n",
    "\n",
    "Problems:\n",
    "\n",
    "- Write code that gets numbers until \"done\", prints running average after each input\n",
    "- Write a function that plays a guessing game: takes a target number, gets guesses, returns number of guesses (using provided get_random_guess function)\n",
    "- Write code that gets words until \"done\" and prints the longest word entered"
   ]
  },
  {
   "cell_type": "code",
   "execution_count": null,
   "id": "13",
   "metadata": {},
   "outputs": [],
   "source": [
    "# problem 1\n",
    "# use while true and break when exit condition is met\n",
    "# start the while loop\n",
    "    # get an input\n",
    "    # test input\n",
    "        # exit loop if done\n",
    "    # update average\n",
    "    # print the average"
   ]
  },
  {
   "cell_type": "code",
   "execution_count": null,
   "id": "14",
   "metadata": {},
   "outputs": [],
   "source": [
    "# problem 2\n",
    "\n",
    "# given:\n",
    "import random as r\n",
    "def get_random_guess():\n",
    "    return r.randint(1, 100)\n",
    "\n",
    "def gg(target):\n",
    "    count = 1\n",
    "    while True:\n",
    "        guess = get_random_guess()\n",
    "        if guess == target:\n",
    "            return count\n",
    "        count += 1"
   ]
  },
  {
   "cell_type": "code",
   "execution_count": null,
   "id": "15",
   "metadata": {},
   "outputs": [],
   "source": [
    "gg(67)"
   ]
  },
  {
   "cell_type": "markdown",
   "id": "16",
   "metadata": {},
   "source": [
    "How would you change the program above so that get_random_guess takes a max or min value for the range based on if the last guess was too high or too low?"
   ]
  },
  {
   "cell_type": "code",
   "execution_count": null,
   "id": "17",
   "metadata": {},
   "outputs": [],
   "source": [
    "# problem 3\n",
    "\n",
    "longest = ''\n",
    "\n",
    "while True:\n",
    "    word = input()\n",
    "    if word.lower() == \"done\":\n",
    "        break\n",
    "    if len(word) > len(longest):\n",
    "        longest = word\n",
    "\n",
    "print(longest)"
   ]
  },
  {
   "cell_type": "markdown",
   "id": "18",
   "metadata": {},
   "source": [
    "## Dictionary Operations\n",
    "\n",
    "\n",
    "Covering: creating / using dictionaries\n",
    "\n",
    "\n",
    "Problems:\n",
    "\n",
    "- Write a function that takes a string and returns dict mapping each character to its count\n",
    "- Write a function that takes a sentence and returns dict mapping word lengths to count of words of that length\n",
    "- Write a function that takes two lists of equal length and returns a dict using first list as keys and second as values\n"
   ]
  },
  {
   "cell_type": "code",
   "execution_count": null,
   "id": "19",
   "metadata": {},
   "outputs": [],
   "source": [
    "# problem 1\n",
    "# define function taking string\n",
    "# initialize empty dict\n",
    "# loop thru values in the string\n",
    "# if that value doesn't exist\n",
    "    # create a key with value 1\n",
    "# if that value exists\n",
    "    # increment the associated count\n",
    "# return dict(char, count)"
   ]
  },
  {
   "cell_type": "code",
   "execution_count": null,
   "id": "20",
   "metadata": {},
   "outputs": [],
   "source": [
    "# problem 2\n",
    "# define func\n",
    "def wc(sent):\n",
    "    \"\"\"assumes sentence is words sep by spaces only, no punct\"\"\"\n",
    "    res = {}\n",
    "    words = sent.split()\n",
    "    for word in words:\n",
    "        l = len(word)\n",
    "        if l in res:\n",
    "            res[l] += 1\n",
    "        else:\n",
    "            res[l] = 1\n",
    "    return res\n",
    "    \n",
    "# init dict\n",
    "# split the string into a list of strings (words)\n",
    "# for each word in words\n",
    "    # find length\n",
    "    # if length is in the dict\n",
    "        # increment the associated counter\n",
    "    # if not\n",
    "        # create a key for that length with value 1\n",
    "\n",
    "# return result"
   ]
  },
  {
   "cell_type": "code",
   "execution_count": null,
   "id": "21",
   "metadata": {},
   "outputs": [],
   "source": [
    "s = \" the  quick brown  fox jumped over the lazy dog\"\n",
    "wc(s)"
   ]
  },
  {
   "cell_type": "code",
   "execution_count": null,
   "id": "22",
   "metadata": {},
   "outputs": [],
   "source": [
    "# problem 3\n",
    "# see bonus 2 problem 1"
   ]
  },
  {
   "cell_type": "markdown",
   "id": "23",
   "metadata": {},
   "source": [
    "## Nested List Processing\n",
    "\n",
    "\n",
    "Covering: list manipulation methods with nested structures (e.g. list of lists)\n",
    "\n",
    "Problems:\n",
    "\n",
    "- Write a function that takes a list of lists and returns the column sums\n",
    "- Write a function that takes a list of lists and returns the row averages\n",
    "- Write a function that takes a list of lists and returns True if all rows have the same sum"
   ]
  },
  {
   "cell_type": "code",
   "execution_count": null,
   "id": "24",
   "metadata": {},
   "outputs": [],
   "source": [
    "# problem 1 - done by row, as in class\n",
    "\n",
    "# define function\n",
    "# init result list\n",
    "# loop thru each row (inner lists)\n",
    "# init col idx\n",
    "# loop thru each column\n",
    "# res[idx] += value of the column\n",
    "# return result\n",
    "\n",
    "def col_sums_row(table):\n",
    "    \"\"\"table is always rectangular, all rows of same length\"\"\"\n",
    "    # initialize res as list of len = width of table\n",
    "    w = len(table[0])\n",
    "    res = [0] * w  # e.g. [0] * 3 = [0, 0, 0]\n",
    "    for row in table:\n",
    "        col_num = 0\n",
    "        for value in row:\n",
    "            # print(row, value)\n",
    "            res[col_num] = res[col_num] + value\n",
    "            col_num += 1\n",
    "    return res"
   ]
  },
  {
   "cell_type": "code",
   "execution_count": null,
   "id": "25",
   "metadata": {},
   "outputs": [],
   "source": [
    "table = [\n",
    "[1, 2, 3, 1],\n",
    "[4, 5, 6, 2],\n",
    "[7, 8, 9, 3]\n",
    "]\n",
    "\n",
    "col_sums_row(table)"
   ]
  },
  {
   "cell_type": "code",
   "execution_count": null,
   "id": "26",
   "metadata": {},
   "outputs": [],
   "source": [
    "# problem 1 - done by column\n",
    "\n",
    "# here the outer loop is columns, not rows\n",
    "# thinking in columns may be more natural for some of you\n",
    "# also, this simplifies initializing each element of the result\n",
    "# instead of incrementing a total, it calculates the sum for each column,\n",
    "# and appends that result\n",
    "\n",
    "def col_sums_col(table):\n",
    "    \"\"\"\n",
    "    Calculate column sums by processing one column at a time.\n",
    "    This approach traverses through each column position, looking at \n",
    "    that position in all rows before moving to the next column.\n",
    "    \"\"\"\n",
    "    \n",
    "    # First get the width from the first row\n",
    "    width = len(table[0])\n",
    "    \n",
    "    # For each column position\n",
    "    res = []\n",
    "    for col_num in range(width):\n",
    "        # Initialize the sum for this column\n",
    "        col_sum = 0\n",
    "        \n",
    "        # Look at this position in every row\n",
    "        for row in table:\n",
    "            col_sum += row[col_num]\n",
    "            \n",
    "        # After processing entire column, add its sum to results\n",
    "        res.append(col_sum)\n",
    "        \n",
    "    return res"
   ]
  },
  {
   "cell_type": "code",
   "execution_count": null,
   "id": "27",
   "metadata": {},
   "outputs": [],
   "source": [
    "col_sums_col(table)"
   ]
  },
  {
   "cell_type": "code",
   "execution_count": null,
   "id": "28",
   "metadata": {},
   "outputs": [],
   "source": [
    "# problem 2\n",
    "\n",
    "# define function that takes list of lists as parameter\n",
    "# init empty result list for averages\n",
    "# loop through each row in table\n",
    "# calculate sum of current row\n",
    "# calculate average (sum/length) and append to result\n",
    "# return list of averages"
   ]
  },
  {
   "cell_type": "code",
   "execution_count": null,
   "id": "29",
   "metadata": {},
   "outputs": [],
   "source": [
    "# problem 3\n",
    "\n",
    "# define function that takes list of lists as parameter\n",
    "# get sum of first row as reference value\n",
    "# loop through remaining rows (starting from second row)\n",
    "# calculate current row sum\n",
    "# if current sum not equal to reference, return False\n",
    "# if we complete loop without returning False, return True"
   ]
  },
  {
   "cell_type": "markdown",
   "id": "30",
   "metadata": {},
   "source": [
    "## Integrated Concepts\n",
    "\n",
    "\n",
    "Covering: combine two or more of the concepts above\n",
    "\n",
    "Problems:\n",
    "\n",
    "- Write a function that takes a list of product codes and prices (i.e., tuples: product_code, price). Group by the first letter of each code and return a dict with letter keys and average price values.\n"
   ]
  },
  {
   "cell_type": "code",
   "execution_count": null,
   "id": "31",
   "metadata": {},
   "outputs": [],
   "source": [
    "# problem 1\n",
    "\n",
    "# define function that takes list of tuples (product code and price)\n",
    "# initialize empty dictionary to store results\n",
    "# loop through each tuple in list \n",
    "    # get first letter of product code from tuple\n",
    "    # get price from tuple\n",
    "    # if letter not in dictionary yet:\n",
    "        # create new list for this letter and add first price\n",
    "    # if letter exists in dictionary:\n",
    "        # append price to existing list\n",
    "# loop through dictionary to convert price lists to averages\n",
    "    # for each letter key:\n",
    "        # calculate average of its price list\n",
    "        # replace price list with average in dictionary\n",
    "# return dictionary of letter keys and average prices"
   ]
  },
  {
   "cell_type": "markdown",
   "id": "32",
   "metadata": {},
   "source": [
    "---\n",
    "\n",
    "Auburn University / Industrial and Systems Engineering  \n",
    "INSY 3010 / Programming and Databases for ISE / Fall 2024  \n",
    "© Copyright 2024, Danny J. O'Leary.  \n",
    "For licensing, attribution, and information: [GitHub INSY3010-Fall24](https://github.com/olearydj/INSY3010-Fall24)\n"
   ]
  }
 ],
 "metadata": {
  "kernelspec": {
   "display_name": "Python 3 (ipykernel)",
   "language": "python",
   "name": "python3"
  },
  "language_info": {
   "codemirror_mode": {
    "name": "ipython",
    "version": 3
   },
   "file_extension": ".py",
   "mimetype": "text/x-python",
   "name": "python",
   "nbconvert_exporter": "python",
   "pygments_lexer": "ipython3",
   "version": "3.12.3"
  }
 },
 "nbformat": 4,
 "nbformat_minor": 5
}
