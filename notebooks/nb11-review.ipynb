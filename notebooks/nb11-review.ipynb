{
 "cells": [
  {
   "cell_type": "markdown",
   "id": "0",
   "metadata": {
    "tags": [
     "remove-cell"
    ]
   },
   "source": [
    "# Welcome\n",
    "\n",
    "This is a review of the major Python concepts covered in this class. It is divided into a series of topic areas, with representative problems in for each.\n",
    "\n",
    "Notes:\n",
    "\n",
    "- The instructions \"write code\" and \"write a function\" are intentionally different. The latter requires you submit your code in the form of a function, where the former does not. When instructed to \"write code\" do not use a function."
   ]
  },
  {
   "cell_type": "markdown",
   "id": "1",
   "metadata": {
    "jp-MarkdownHeadingCollapsed": true
   },
   "source": [
    "## String Processing and I/O\n",
    "\n",
    "Covering: input/output, type conversion, string methods (split/join), f-strings\n",
    "\n",
    "Problems:\n",
    "\n",
    "- Write code that gets first/last name and ID number, formats them as \"lastname, firstname (ID)\" with proper capitalization\n",
    "- Write code that gets a sentence from user, prints each word capitalized on a separate line with its length\n",
    "- Write code that gets three strings and prints them in alphabetical order with proper capitalization"
   ]
  },
  {
   "cell_type": "markdown",
   "id": "2",
   "metadata": {
    "jp-MarkdownHeadingCollapsed": true
   },
   "source": [
    "## List Operations and Control Flow\n",
    "\n",
    "\n",
    "Covering: list basics and if/elif/else branching\n",
    "\n",
    "Problems:\n",
    "\n",
    "- Write a function that takes a list of numbers and returns a tuple containing counts of positive, negative, and zero values\n",
    "- Write a function that takes a list of scores and returns a tuple with the highest score and a list of indices where it appears\n",
    "- Write a function that takes a list of numbers and returns a tuple containing the first and last elements that are above the list's average"
   ]
  },
  {
   "cell_type": "markdown",
   "id": "3",
   "metadata": {},
   "source": [
    "## Basic Looping with for\n",
    "\n",
    "\n",
    "Covering: for loop syntax, range(), basic sequence iteration\n",
    "\n",
    "Problems:\n",
    "\n",
    "- Write a function that takes a number n and returns sum of all multiples of 3 less than n\n",
    "- Write code that prints a right triangle pattern of n rows using asterisks\n",
    "- Write a function that takes a string and returns sum of all digit characters it contains"
   ]
  },
  {
   "cell_type": "markdown",
   "id": "4",
   "metadata": {},
   "source": [
    "## Input Processing with while\n",
    "\n",
    "\n",
    "Covering: while loop usage patterns\n",
    "\n",
    "Problems:\n",
    "\n",
    "- Write code that gets numbers until \"done\", prints running average after each input\n",
    "- Write a function that plays a guessing game: takes a target number, gets guesses, returns number of guesses (using provided compare_guess function)\n",
    "- Write code that gets words until \"done\" and prints the longest word entered"
   ]
  },
  {
   "cell_type": "markdown",
   "id": "5",
   "metadata": {},
   "source": [
    "## Dictionary Operations\n",
    "\n",
    "\n",
    "Covering: creating / using dictionaries\n",
    "\n",
    "\n",
    "Problems:\n",
    "\n",
    "- Write a function that takes a string and returns dict mapping each character to its count\n",
    "- Write a function that takes a sentence and returns dict mapping word lengths to count of words of that length\n",
    "- Write a function that takes two lists of equal length and returns a dict using first list as keys and second as values\n"
   ]
  },
  {
   "cell_type": "markdown",
   "id": "6",
   "metadata": {},
   "source": [
    "## Nested List Processing\n",
    "\n",
    "\n",
    "Covering: list manipulation methods with nested structures (e.g. list of lists)\n",
    "\n",
    "Problems:\n",
    "\n",
    "- Write a function that takes a list of lists and returns the column sums\n",
    "- Write a function that takes a list of lists and returns the row averages\n",
    "- Write a function that takes a list of lists and returns True if all rows have the same sum"
   ]
  },
  {
   "cell_type": "markdown",
   "id": "7",
   "metadata": {},
   "source": [
    "---\n",
    "\n",
    "Auburn University / Industrial and Systems Engineering  \n",
    "INSY 3010 / Programming and Databases for ISE / Fall 2024  \n",
    "© Copyright 2024, Danny J. O'Leary.  \n",
    "For licensing, attribution, and information: [GitHub INSY3010-Fall24](https://github.com/olearydj/INSY3010-Fall24)\n"
   ]
  }
 ],
 "metadata": {
  "kernelspec": {
   "display_name": "Python 3 (ipykernel)",
   "language": "python",
   "name": "python3"
  },
  "language_info": {
   "codemirror_mode": {
    "name": "ipython",
    "version": 3
   },
   "file_extension": ".py",
   "mimetype": "text/x-python",
   "name": "python",
   "nbconvert_exporter": "python",
   "pygments_lexer": "ipython3",
   "version": "3.12.3"
  }
 },
 "nbformat": 4,
 "nbformat_minor": 5
}
