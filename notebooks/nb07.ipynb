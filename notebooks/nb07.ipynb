{
 "cells": [
  {
   "cell_type": "markdown",
   "id": "0",
   "metadata": {
    "tags": [
     "remove-cell"
    ]
   },
   "source": [
    "# Welcome\n",
    "\n",
    "This material is from portions of Chapters 3, 4, and 6 of [*Think Python*, 3rd edition](https://greenteapress.com/wp/think-python-3rd-edition), by Allen B. Downey. I have adapted it for this class.\n"
   ]
  },
  {
   "cell_type": "markdown",
   "id": "1",
   "metadata": {},
   "source": [
    "# Functions\n",
    "\n",
    "In previous chapters we used several functions provided by Python, like `int` and `float`, and a few provided by the `math` module, like `sqrt` and `pow`.\n",
    "In this chapter, you will learn how to create your own functions and run them.\n",
    "\n",
    "Functions are on way to adhere to an important programming principle:\n",
    "\n",
    "**Don't Repeat Yourself (DRY)**\n",
    "\n",
    "Repetition leads to errors and makes code harder to maintain. Any change required (and there will be many) has to be applied to all duplicated instances. This is a losing battle. By replacing all instances of the duplicated code with a reference to a shared function, only one change is required.\n",
    "\n",
    "Functions have many other benefits that will become more obvious as our programs get bigger. Functions compartmentalize functionality in a way that helps with the planning and implementation of larger solutions."
   ]
  },
  {
   "cell_type": "markdown",
   "id": "2",
   "metadata": {},
   "source": [
    "## Defining new functions\n",
    "\n",
    "A **function definition** specifies the name of a new function and the sequence of statements that run when the function is called. Here's a very simple example:"
   ]
  },
  {
   "cell_type": "code",
   "execution_count": null,
   "id": "3",
   "metadata": {},
   "outputs": [],
   "source": [
    "def print_lyrics():\n",
    "    print(\"War Eagle, fly down the field,\")\n",
    "    print(\"Ever to conquer, never to yield.\")"
   ]
  },
  {
   "cell_type": "markdown",
   "id": "4",
   "metadata": {},
   "source": [
    "`def` is a keyword that indicates that this is a function definition.\n",
    "The name of the function is `print_lyrics`.\n",
    "Anything that's a legal variable name is also a legal function name.\n",
    "\n",
    "The empty parentheses after the name indicate that this function doesn't take any arguments.\n",
    "\n",
    "The first line of the function definition is called the **header** -- the rest is called the **body**.\n",
    "The header has to end with a colon and the body has to be indented. By convention, indentation is always four spaces. \n",
    "The body of this function is two print statements; in general, the body of a function can contain any number of statements of any kind.\n",
    "\n",
    "Running this code has no obvious effect. The code in the body of the function is not executed. It simply creates a **function object** and assigns it to the function name:\n",
    "\n",
    "`print_lyrics` -> function object, the code to print song lyrics\n",
    "\n",
    "This is analogous to the way `x = 42` assigns the integer value of `42` to the variable name `x`:\n",
    "\n",
    "`x` -> integer, 42\n",
    "\n",
    "We can display the function object by using the function name, without the trailing parentheses:"
   ]
  },
  {
   "cell_type": "code",
   "execution_count": null,
   "id": "5",
   "metadata": {},
   "outputs": [],
   "source": [
    "print_lyrics"
   ]
  },
  {
   "cell_type": "markdown",
   "id": "6",
   "metadata": {},
   "source": [
    "It's not important that you understand the details of this cryptic output, except that it shows that the value associated with `print_lyrics` is a function.\n",
    "\n",
    "Now that we've defined a function, we can call it the same way we call built-in functions, by including parentheses:"
   ]
  },
  {
   "cell_type": "code",
   "execution_count": null,
   "id": "7",
   "metadata": {},
   "outputs": [],
   "source": [
    "print_lyrics()"
   ]
  },
  {
   "cell_type": "markdown",
   "id": "8",
   "metadata": {},
   "source": [
    "When the function runs, it executes the statements in the body.\n",
    "\n",
    "Sing it for us!"
   ]
  },
  {
   "cell_type": "markdown",
   "id": "9",
   "metadata": {},
   "source": [
    "## Parameters\n",
    "\n",
    "Some of the functions we have seen require arguments; for example, when you call `abs` you pass a number as an argument.\n",
    "Some functions take more than one argument; for example, `math.pow` takes two, the base and the exponent."
   ]
  },
  {
   "cell_type": "code",
   "execution_count": null,
   "id": "10",
   "metadata": {},
   "outputs": [],
   "source": [
    "abs(-1)  # single argument"
   ]
  },
  {
   "cell_type": "code",
   "execution_count": null,
   "id": "11",
   "metadata": {},
   "outputs": [],
   "source": [
    "import math\n",
    "math.pow(42, 2)  # two arguments, base and exponent"
   ]
  },
  {
   "cell_type": "markdown",
   "id": "12",
   "metadata": {},
   "source": [
    "Here is a definition for a function that takes a single value and does something useful."
   ]
  },
  {
   "cell_type": "code",
   "execution_count": null,
   "id": "13",
   "metadata": {},
   "outputs": [],
   "source": [
    "def greet(person):  # 'person' is the parameter\n",
    "    print(f\"Hello, {person}!\")"
   ]
  },
  {
   "cell_type": "markdown",
   "id": "14",
   "metadata": {},
   "source": [
    "The variable name in the parentheses of the function *definition* is a **parameter**.\n",
    "Conversely, the value in parentheses of the function *call* is an **argument**.\n",
    "When the function is called, the parameter takes on the value of the argument.\n",
    "\n",
    "For example, we can call `greet` like this."
   ]
  },
  {
   "cell_type": "code",
   "execution_count": null,
   "id": "15",
   "metadata": {},
   "outputs": [],
   "source": [
    "greet(\"Aubie\")  # \"Aubie\" is the argument"
   ]
  },
  {
   "cell_type": "markdown",
   "id": "16",
   "metadata": {},
   "source": [
    "When this function is called, it has the same effect as assigning the argument \"Aubie\" to the parameter `person` and then executing the body of the function, like this."
   ]
  },
  {
   "cell_type": "code",
   "execution_count": null,
   "id": "17",
   "metadata": {},
   "outputs": [],
   "source": [
    "person = 'Aubie'\n",
    "print(f\"Hello, {person}!\")"
   ]
  },
  {
   "cell_type": "markdown",
   "id": "18",
   "metadata": {},
   "source": [
    "You can also use a variable as an argument."
   ]
  },
  {
   "cell_type": "code",
   "execution_count": null,
   "id": "19",
   "metadata": {},
   "outputs": [],
   "source": [
    "coach = \"Bruce Pearl\"\n",
    "greet(coach)"
   ]
  },
  {
   "cell_type": "markdown",
   "id": "20",
   "metadata": {},
   "source": [
    "In this example, the value of `coach` gets assigned to the parameter `person`.\n",
    "\n",
    "Note that the name of the variable used as an argument when calling the function does *not* have to be the same as the name of the parameter, **and usually isn't**. Here, `coach` is just one of many people you might want to greet. The `greet` function is designed to work for any `person`.\n",
    "\n",
    "Functions are designed to be reusable. You may use a function like `greet` in many places in a program, where it would be counterproducive to reassign a `person` variable each time you wanted to `greet` them. Hence the separation between argument and parameter, which \"decouples\" the function from the calling code."
   ]
  },
  {
   "cell_type": "markdown",
   "id": "21",
   "metadata": {},
   "source": [
    "---\n",
    "\n",
    "Auburn University / Industrial and Systems Engineering  \n",
    "INSY 3010 / Programming and Databases for ISE / Fall 2024  \n",
    "© Copyright 2024, Danny J. O'Leary.  \n",
    "For licensing, attribution, and information: [GitHub INSY3010-Fall24](https://github.com/olearydj/INSY3010-Fall24)\n"
   ]
  },
  {
   "cell_type": "code",
   "execution_count": null,
   "id": "22",
   "metadata": {},
   "outputs": [],
   "source": [
    "def repeat(word, n):\n",
    "    print(word * n)"
   ]
  },
  {
   "cell_type": "markdown",
   "id": "23",
   "metadata": {},
   "source": [
    "We can use this function to print the first line of the song, like this."
   ]
  },
  {
   "cell_type": "code",
   "execution_count": null,
   "id": "24",
   "metadata": {},
   "outputs": [],
   "source": [
    "spam = 'Spam, '\n",
    "repeat(spam, 4)"
   ]
  },
  {
   "cell_type": "markdown",
   "id": "25",
   "metadata": {},
   "source": [
    "To display the first two lines, we can define a new function that uses `repeat`."
   ]
  },
  {
   "cell_type": "code",
   "execution_count": null,
   "id": "26",
   "metadata": {},
   "outputs": [],
   "source": [
    "def first_two_lines():\n",
    "    repeat(spam, 4)\n",
    "    repeat(spam, 4)"
   ]
  },
  {
   "cell_type": "markdown",
   "id": "27",
   "metadata": {},
   "source": [
    "And then call it like this."
   ]
  },
  {
   "cell_type": "code",
   "execution_count": null,
   "id": "28",
   "metadata": {},
   "outputs": [],
   "source": [
    "first_two_lines()"
   ]
  },
  {
   "cell_type": "markdown",
   "id": "29",
   "metadata": {},
   "source": [
    "To display the last three lines, we can define another function, which also uses `repeat`."
   ]
  },
  {
   "cell_type": "code",
   "execution_count": null,
   "id": "30",
   "metadata": {},
   "outputs": [],
   "source": [
    "def last_three_lines():\n",
    "    repeat(spam, 2)\n",
    "    print('(Lovely Spam, Wonderful Spam!)')\n",
    "    repeat(spam, 2)"
   ]
  },
  {
   "cell_type": "code",
   "execution_count": null,
   "id": "31",
   "metadata": {},
   "outputs": [],
   "source": [
    "last_three_lines()"
   ]
  },
  {
   "cell_type": "markdown",
   "id": "32",
   "metadata": {},
   "source": [
    "Finally, we can bring it all together with one function that prints the whole verse."
   ]
  },
  {
   "cell_type": "code",
   "execution_count": null,
   "id": "33",
   "metadata": {},
   "outputs": [],
   "source": [
    "def print_verse():\n",
    "    first_two_lines()\n",
    "    last_three_lines()"
   ]
  },
  {
   "cell_type": "code",
   "execution_count": null,
   "id": "34",
   "metadata": {},
   "outputs": [],
   "source": [
    "print_verse()"
   ]
  },
  {
   "cell_type": "markdown",
   "id": "35",
   "metadata": {},
   "source": [
    "When we run `print_verse`, it calls `first_two_lines`, which calls `repeat`, which calls `print`.\n",
    "That's a lot of functions.\n",
    "\n",
    "Of course, we could have done the same thing with fewer functions, but the point of this example is to show how functions can work together."
   ]
  },
  {
   "cell_type": "code",
   "execution_count": null,
   "id": "36",
   "metadata": {},
   "outputs": [],
   "source": [
    "for i in range(2):\n",
    "    print(i)"
   ]
  },
  {
   "cell_type": "markdown",
   "id": "37",
   "metadata": {},
   "source": [
    "The first line is a header that ends with a colon.\n",
    "The second line is the body, which has to be indented.\n",
    "\n",
    "The header starts with the keyword `for`, a new variable named `i`, and another keyword, `in`. \n",
    "It uses the `range` function to create a sequence of two values, which are `0` and `1`.\n",
    "In Python, when we start counting, we usually start from `0`.\n",
    "\n",
    "When the `for` statement runs, it assigns the first value from `range` to `i` and then runs the `print` function in the body, which displays `0`.\n",
    "\n",
    "When it gets to the end of the body, it loops back around to the header, which is why this statement is called a **loop**.\n",
    "The second time through the loop, it assigns the next value from `range` to `i`, and displays it.\n",
    "Then, because that's the last value from `range`, the loop ends.\n",
    "\n",
    "Here's how we can use a `for` loop to print two verses of the song."
   ]
  },
  {
   "cell_type": "code",
   "execution_count": null,
   "id": "38",
   "metadata": {},
   "outputs": [],
   "source": [
    "for i in range(2):\n",
    "    print(\"Verse\", i)\n",
    "    print_verse()\n",
    "    print()"
   ]
  },
  {
   "cell_type": "markdown",
   "id": "39",
   "metadata": {},
   "source": [
    "You can put a `for` loop inside a function.\n",
    "For example, `print_n_verses` takes a parameter named `n`, which has to be an integer, and displays the given number of verses. "
   ]
  },
  {
   "cell_type": "code",
   "execution_count": null,
   "id": "40",
   "metadata": {},
   "outputs": [],
   "source": [
    "def print_n_verses(n):\n",
    "    for i in range(n):\n",
    "        print_verse()\n",
    "        print()"
   ]
  },
  {
   "cell_type": "markdown",
   "id": "41",
   "metadata": {},
   "source": [
    "In this example, we don't use `i` in the body of the loop, but there has to be a variable name in the header anyway."
   ]
  },
  {
   "cell_type": "code",
   "execution_count": null,
   "id": "42",
   "metadata": {},
   "outputs": [],
   "source": [
    "def cat_twice(part1, part2):\n",
    "    cat = part1 + part2\n",
    "    print_twice(cat)"
   ]
  },
  {
   "cell_type": "markdown",
   "id": "43",
   "metadata": {},
   "source": [
    "Here's an example that uses it:"
   ]
  },
  {
   "cell_type": "code",
   "execution_count": null,
   "id": "44",
   "metadata": {},
   "outputs": [],
   "source": [
    "line1 = 'Always look on the '\n",
    "line2 = 'bright side of life.'\n",
    "cat_twice(line1, line2)"
   ]
  },
  {
   "cell_type": "markdown",
   "id": "45",
   "metadata": {},
   "source": [
    "When `cat_twice` runs, it creates a local variable named `cat`, which is destroyed when the function ends.\n",
    "If we try to display it, we get a `NameError`:"
   ]
  },
  {
   "cell_type": "code",
   "execution_count": null,
   "id": "46",
   "metadata": {
    "tags": [
     "raises-exception"
    ]
   },
   "outputs": [],
   "source": [
    "\n",
    "print(cat)"
   ]
  },
  {
   "cell_type": "markdown",
   "id": "47",
   "metadata": {},
   "source": [
    "Outside of the function, `cat` is not defined. \n",
    "\n",
    "Parameters are also local.\n",
    "For example, outside `cat_twice`, there is no such thing as `part1` or `part2`."
   ]
  },
  {
   "cell_type": "code",
   "execution_count": null,
   "id": "48",
   "metadata": {},
   "outputs": [],
   "source": [
    "def print_twice(string):\n",
    "    print(cat)            # NameError\n",
    "    print(cat)"
   ]
  },
  {
   "cell_type": "markdown",
   "id": "49",
   "metadata": {},
   "source": [
    "Now here's what happens when we run `cat_twice`."
   ]
  },
  {
   "cell_type": "code",
   "execution_count": null,
   "id": "50",
   "metadata": {
    "tags": [
     "remove-print"
    ]
   },
   "outputs": [],
   "source": [
    "# This cell tells Jupyter to provide detailed debugging information\n",
    "# when a runtime error occurs, including a traceback.\n",
    "\n",
    "%xmode Verbose"
   ]
  },
  {
   "cell_type": "code",
   "execution_count": null,
   "id": "51",
   "metadata": {
    "tags": [
     "raises-exception"
    ]
   },
   "outputs": [],
   "source": [
    "\n",
    "cat_twice(line1, line2)"
   ]
  },
  {
   "cell_type": "markdown",
   "id": "52",
   "metadata": {},
   "source": [
    "The error message includes a **traceback**, which shows the function that was running when the error occurred, the function that called it, and so on.\n",
    "In this example, it shows that `cat_twice` called `print_twice`, and the error occurred in a `print_twice`.\n",
    "\n",
    "The order of the functions in the traceback is the same as the order of the frames in the stack diagram.\n",
    "The function that was running is at the bottom."
   ]
  }
 ],
 "metadata": {
  "celltoolbar": "Tags",
  "kernelspec": {
   "display_name": "Python 3 (ipykernel)",
   "language": "python",
   "name": "python3"
  },
  "language_info": {
   "codemirror_mode": {
    "name": "ipython",
    "version": 3
   },
   "file_extension": ".py",
   "mimetype": "text/x-python",
   "name": "python",
   "nbconvert_exporter": "python",
   "pygments_lexer": "ipython3",
   "version": "3.12.3"
  }
 },
 "nbformat": 4,
 "nbformat_minor": 5
}
