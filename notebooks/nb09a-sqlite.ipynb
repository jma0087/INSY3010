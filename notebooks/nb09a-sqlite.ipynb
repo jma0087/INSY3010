{
 "cells": [
  {
   "cell_type": "markdown",
   "id": "0",
   "metadata": {},
   "source": [
    "# SQL-Python Integration"
   ]
  },
  {
   "cell_type": "markdown",
   "id": "1",
   "metadata": {},
   "source": [
    "This notebook demonstrates the basic approach for using SQL in Python. It uses `sqlite3` for the reasons described in the accompanying slides.\n",
    "\n",
    "You can find more details at the [Official SQLite Documentation](https://docs.python.org/3/library/sqlite3.html)."
   ]
  },
  {
   "cell_type": "markdown",
   "id": "2",
   "metadata": {},
   "source": [
    "Run the following cell first to get the required data files. Though you may not know the methods used, you should, at this point, be able to follow the code and get a sense of what it does."
   ]
  },
  {
   "cell_type": "code",
   "execution_count": null,
   "id": "3",
   "metadata": {},
   "outputs": [],
   "source": [
    "from pathlib import Path\n",
    "from urllib.request import urlretrieve\n",
    "\n",
    "def download_if_missing(url, filename, data_dir = Path('data')):\n",
    "    \"\"\"\n",
    "    Download a file from URL if not present in local data directory.\n",
    "    \n",
    "    Args:\n",
    "        url: Source URL to download from\n",
    "        filename: Name to save file as locally\n",
    "        data_dir: Path to data directory (default: Path('data'))\n",
    "    \n",
    "    Returns:\n",
    "        Path: Path object pointing to the local file\n",
    "    \"\"\"\n",
    "\n",
    "    # make sure a data subdirectory exists\n",
    "    data_dir.mkdir(exist_ok=True)\n",
    "\n",
    "    # build a full Path objecct\n",
    "    filepath = data_dir / filename\n",
    "\n",
    "    if not filepath.exists():\n",
    "        # there is no file in the data directory called filename\n",
    "        print(f\"Downloading {filename} to {data_dir}/...\")\n",
    "        try:\n",
    "            urlretrieve(url, filepath)\n",
    "            print(\"Download complete!\")\n",
    "        except Exception as e:\n",
    "            print(f\"Error downloading {filename}: {e}\")\n",
    "    else:\n",
    "        print(f\"{filepath} exists, skipping download.\")\n",
    "\n",
    "    return filepath\n",
    "\n",
    "# define constants\n",
    "DATA_DIR = Path('data')\n",
    "BASE_URL = 'https://raw.githubusercontent.com/olearydj/INSY3010-Fall24/main/notebooks/data/'\n",
    "FLIGHT_DB_FILE = 'flight.db'\n",
    "TUTORIAL_DB_FILE = 'tutorial.db'\n",
    "\n",
    "# download flight database if missing\n",
    "flight_db = download_if_missing(BASE_URL + FLIGHT_DB_FILE, FLIGHT_DB_FILE, DATA_DIR)\n",
    "\n",
    "# Delete tutorial database if exists\n",
    "tutorial_db = DATA_DIR / TUTORIAL_DB_FILE\n",
    "tutorial_db.unlink(missing_ok=True)"
   ]
  },
  {
   "cell_type": "markdown",
   "id": "4",
   "metadata": {},
   "source": [
    "### Flight Database"
   ]
  },
  {
   "cell_type": "markdown",
   "id": "5",
   "metadata": {},
   "source": [
    "#### Basic Query Operations"
   ]
  },
  {
   "cell_type": "code",
   "execution_count": null,
   "id": "6",
   "metadata": {},
   "outputs": [],
   "source": [
    "# sqlite3 is included with python\n",
    "import sqlite3"
   ]
  },
  {
   "cell_type": "code",
   "execution_count": null,
   "id": "7",
   "metadata": {},
   "outputs": [],
   "source": [
    "# create a connection to the database\n",
    "con = sqlite3.connect(flight_db)\n",
    "\n",
    "# create a cursor object for the connection\n",
    "cur = con.cursor()\n",
    "\n",
    "# execute SQL commands with execute method\n",
    "SQL = \"SELECT * FROM flight LIMIT 10\"\n",
    "result = cur.execute(SQL)\n",
    "\n",
    "# result is a Cursor object type\n",
    "type(result)"
   ]
  },
  {
   "cell_type": "code",
   "execution_count": null,
   "id": "8",
   "metadata": {},
   "outputs": [],
   "source": [
    "# can loop through rows...\n",
    "for row in result:\n",
    "    print(row)"
   ]
  },
  {
   "cell_type": "code",
   "execution_count": null,
   "id": "9",
   "metadata": {},
   "outputs": [],
   "source": [
    "# or get all the results as a list of tuples using fetchall\n",
    "data = cur.fetchall()\n",
    "type(data)"
   ]
  },
  {
   "cell_type": "code",
   "execution_count": null,
   "id": "10",
   "metadata": {},
   "outputs": [],
   "source": [
    "print(data[:2])"
   ]
  },
  {
   "cell_type": "markdown",
   "id": "11",
   "metadata": {},
   "source": [
    "`data` is an empty list - What happened!?\n",
    "\n",
    "Cursor objects are iterators that allow you to process query results sequentially. They provide an *interface* for fetching rows on demand rather than loading all results into memory at once. This makes them memory-efficient when dealing with large result sets, as you can process one row at a time rather than loading the entire result set at once.\n",
    "\n",
    "In this case, the earlier loop exhausted the contents of the Cursor object. You can think of this as reaching the end of a linear physical media object like a record ('vinyl') or cassette tape. There is no  way to \"rewind\" in SQLite, except to run the query again:"
   ]
  },
  {
   "cell_type": "code",
   "execution_count": null,
   "id": "12",
   "metadata": {},
   "outputs": [],
   "source": [
    "# re-run the query and fetch all the results\n",
    "result = cur.execute(SQL)\n",
    "data = cur.fetchall()\n",
    "\n",
    "# the result is a list of tuples\n",
    "print(type(data), type(data[0]))\n"
   ]
  },
  {
   "cell_type": "code",
   "execution_count": null,
   "id": "13",
   "metadata": {},
   "outputs": [],
   "source": [
    "# check the first two lines\n",
    "print(data[:2])"
   ]
  },
  {
   "cell_type": "markdown",
   "id": "14",
   "metadata": {},
   "source": [
    "After storing the results of `fetchall` in a variable, you can use them multiple times."
   ]
  },
  {
   "cell_type": "code",
   "execution_count": null,
   "id": "15",
   "metadata": {},
   "outputs": [],
   "source": [
    "print(data[-1])"
   ]
  },
  {
   "cell_type": "code",
   "execution_count": null,
   "id": "16",
   "metadata": {},
   "outputs": [],
   "source": [
    "len(data)"
   ]
  },
  {
   "cell_type": "markdown",
   "id": "17",
   "metadata": {},
   "source": [
    "Note that the difference here is not the method used - in both cases we used `cur.fetchall()` - but the order of operations. In the first attempt we executed the query, printed the rows, then performed the fetch operation. The second time, we used `fetchall` immediately after executing the query.\n",
    "\n",
    "In the first case we exausted the Cursor object before fetching the results, resulting in an empty list. The second time the list was created before \"playing\" any of the database records (rows). This is further demonstrated by the following example."
   ]
  },
  {
   "cell_type": "code",
   "execution_count": null,
   "id": "18",
   "metadata": {},
   "outputs": [],
   "source": [
    "# re-run the query to reset the Cursor object\n",
    "result = cur.execute(SQL)\n",
    "\n",
    "# print first 5 records using fetchone\n",
    "for row in range(5):\n",
    "    print(result.fetchone())"
   ]
  },
  {
   "cell_type": "code",
   "execution_count": null,
   "id": "19",
   "metadata": {},
   "outputs": [],
   "source": [
    "# only 5 records remain!\n",
    "data = cur.fetchall()\n",
    "len(data)"
   ]
  },
  {
   "cell_type": "markdown",
   "id": "20",
   "metadata": {},
   "source": [
    "Be careful about when and how you fetch query results. In a live database, each time you execute the query to reset the Cursor the underlying data, and thus results, may change!"
   ]
  },
  {
   "cell_type": "markdown",
   "id": "21",
   "metadata": {},
   "source": [
    "#### Multi-Line Queries"
   ]
  },
  {
   "cell_type": "markdown",
   "id": "22",
   "metadata": {},
   "source": [
    "Python allows multi-line strings, which is useful for longer queries.  Just wrap the lines in triple quotes, either single or double."
   ]
  },
  {
   "cell_type": "code",
   "execution_count": null,
   "id": "23",
   "metadata": {},
   "outputs": [],
   "source": [
    "SQL = '''\n",
    "SELECT FlightNumber, COUNT(*) AS Count\n",
    "FROM booking\n",
    "GROUP BY FlightNumber\n",
    "'''\n",
    "\n",
    "print(SQL)"
   ]
  },
  {
   "cell_type": "code",
   "execution_count": null,
   "id": "24",
   "metadata": {},
   "outputs": [],
   "source": [
    "# re-run the query and fetch all the results\n",
    "result = cur.execute(SQL)\n",
    "data = cur.fetchall()\n",
    "\n",
    "for record in data:\n",
    "    print(record)"
   ]
  },
  {
   "cell_type": "markdown",
   "id": "25",
   "metadata": {},
   "source": [
    "#### Attribute Names\n",
    "\n",
    "To get the names of the table attributes (columns), use the `description` method. It returns a list of tuples where the first element in each tuple is the column name:"
   ]
  },
  {
   "cell_type": "code",
   "execution_count": null,
   "id": "26",
   "metadata": {},
   "outputs": [],
   "source": [
    "for col in cur.description:\n",
    "    col_name = col[0]\n",
    "    print(col_name)"
   ]
  },
  {
   "cell_type": "markdown",
   "id": "27",
   "metadata": {},
   "source": [
    "#### Close the Connection\n",
    "\n",
    "Always close the database connection!"
   ]
  },
  {
   "cell_type": "code",
   "execution_count": null,
   "id": "28",
   "metadata": {},
   "outputs": [],
   "source": [
    "con.close()"
   ]
  },
  {
   "cell_type": "markdown",
   "id": "29",
   "metadata": {},
   "source": [
    "### Full CRUD\n",
    "\n",
    "A short demonstration of how to create and add to tables."
   ]
  },
  {
   "cell_type": "markdown",
   "id": "30",
   "metadata": {},
   "source": [
    "Create a connection to a new or existing database using `sqlite3.connect()` with the path."
   ]
  },
  {
   "cell_type": "code",
   "execution_count": null,
   "id": "31",
   "metadata": {},
   "outputs": [],
   "source": [
    "# db file will be created if new\n",
    "con = sqlite3.connect(tutorial_db)\n",
    "print(con) # connection object"
   ]
  },
  {
   "cell_type": "markdown",
   "id": "32",
   "metadata": {},
   "source": [
    "Create a \"cursor\" object for the connection using `.cursor()`. Wikipedia defines a database cursor as...\n",
    "\n",
    "> a mechanism that enables traversal over the records in a database\n",
    "\n",
    "This is similar to an interator for the database, and will be used as such."
   ]
  },
  {
   "cell_type": "code",
   "execution_count": null,
   "id": "33",
   "metadata": {},
   "outputs": [],
   "source": [
    "# create a \"cursor\" to iterate thru the database\n",
    "cur = con.cursor()\n",
    "print(cur) # cursor object"
   ]
  },
  {
   "cell_type": "markdown",
   "id": "34",
   "metadata": {},
   "source": [
    "### Create a Table and Populate it with Data\n",
    "We have focused on the **R** in **CRUD**, *reading* databases with `SELECT` statements. Here we *create* and *update* a database of movie data using `CREATE` and `INSERT` statements, followed by a `con.commit()` to save the changes.\n",
    "\n",
    "Queries are run using the `cursor.execute()` method, which takes a string of the SQL command as an argument.\n",
    "\n",
    "Note the use of parentheses with adjacent strings for multi-line string definition."
   ]
  },
  {
   "cell_type": "code",
   "execution_count": null,
   "id": "35",
   "metadata": {},
   "outputs": [],
   "source": [
    "# create a table of movie data\n",
    "cur.execute(\"CREATE TABLE movie(title, year, score)\")\n",
    "\n",
    "# add some data...\n",
    "# first, create a string holding the SQL statement to execute\n",
    "\n",
    "SQL = '''\n",
    "INSERT INTO movie VALUES\n",
    "('Monty Python and the Holy Grail', 1975, 8.2),\n",
    "('And Now for Something Completely Different', 1972, 7.5)\n",
    "'''\n",
    "\n",
    "# execute the SQL statement\n",
    "cur.execute(SQL)\n",
    "\n",
    "# commit the change to the database\n",
    "con.commit()"
   ]
  },
  {
   "cell_type": "markdown",
   "id": "36",
   "metadata": {},
   "source": [
    "### Test and Add More Data\n",
    "\n",
    "The same method is used to execute `SELECT` statements, but we process the returned object with various `fetch` methods to see the results."
   ]
  },
  {
   "cell_type": "code",
   "execution_count": null,
   "id": "37",
   "metadata": {},
   "outputs": [],
   "source": [
    "# run queries by executing SQL and fetching results\n",
    "SQL = (\"SELECT title, score FROM movie\")\n",
    "res = cur.execute(SQL)\n",
    "\n",
    "# fetchall gets all results as a list of tuples\n",
    "res.fetchall()"
   ]
  },
  {
   "cell_type": "code",
   "execution_count": null,
   "id": "38",
   "metadata": {},
   "outputs": [],
   "source": [
    "# add more data using a different method: executemany\n",
    "data = [\n",
    "    (\"Monty Python Live at the Hollywood Bowl\", 1982, 7.9),\n",
    "    (\"Monty Python's The Meaning of Life\", 1983, 7.5),\n",
    "    (\"Monty Python's Life of Brain\", 1979, 8.0)\n",
    "]\n",
    "# ? characters are replaced by values in data\n",
    "cur.executemany(\"INSERT INTO movie VALUES(?, ?, ?)\", data)\n",
    "\n",
    "# always commit the change\n",
    "con.commit()"
   ]
  },
  {
   "cell_type": "markdown",
   "id": "39",
   "metadata": {},
   "source": [
    "Results are returned as a list of tuples that can be iterated through, e.g. using a `for` loop."
   ]
  },
  {
   "cell_type": "code",
   "execution_count": null,
   "id": "40",
   "metadata": {},
   "outputs": [],
   "source": [
    "res = cur.execute(\"SELECT year, title FROM movie ORDER BY year\")\n",
    "for row in res:\n",
    "    print(row)"
   ]
  },
  {
   "cell_type": "markdown",
   "id": "41",
   "metadata": {},
   "source": [
    "### Close the Connection\n",
    "\n",
    "Always end the session by closing the connection."
   ]
  },
  {
   "cell_type": "code",
   "execution_count": null,
   "id": "42",
   "metadata": {},
   "outputs": [],
   "source": [
    "con.close()"
   ]
  }
 ],
 "metadata": {
  "kernelspec": {
   "display_name": "Python 3 (ipykernel)",
   "language": "python",
   "name": "python3"
  },
  "language_info": {
   "codemirror_mode": {
    "name": "ipython",
    "version": 3
   },
   "file_extension": ".py",
   "mimetype": "text/x-python",
   "name": "python",
   "nbconvert_exporter": "python",
   "pygments_lexer": "ipython3",
   "version": "3.12.3"
  }
 },
 "nbformat": 4,
 "nbformat_minor": 5
}
